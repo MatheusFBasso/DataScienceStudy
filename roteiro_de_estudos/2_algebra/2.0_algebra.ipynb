{
 "cells": [
  {
   "cell_type": "markdown",
   "id": "792a6313-f8f9-45e2-ac99-07e6666ebafa",
   "metadata": {},
   "source": [
    "# **2.0 - Algebra Linear**\n",
    "---\n",
    "\n",
    "## **Vetores**: \n",
    "\n",
    "Vetores podem ser entendidos como pontos no espaço e podemos representar os dados usando vetores. Exemplo: os dados que representam um apartamento, as notas de um aluno, os valores que compõem o preço de um produto, entre outros, podem ser armazenados em um vetor.\n",
    "\n",
    "No Python representamos um vetor como um array do NumPy, então se temos apenas a informação da quantidade de m², temos um vetor com um eixo:"
   ]
  },
  {
   "cell_type": "code",
   "execution_count": 1,
   "id": "64efe11a-e0b4-4f50-851f-c45b85656200",
   "metadata": {},
   "outputs": [],
   "source": [
    "import numpy as np\n",
    "\n",
    "apto = np.array([67])"
   ]
  },
  {
   "cell_type": "markdown",
   "id": "660a5db9-cbcd-4d10-8a36-ca1b7e8aa1fd",
   "metadata": {},
   "source": [
    "Adicionando a informação do valor do apartamento no vetor, teremos um vetor com dois eixos:"
   ]
  },
  {
   "cell_type": "code",
   "execution_count": 2,
   "id": "d2fa94da-6375-4243-8465-6ae75e48f4ea",
   "metadata": {},
   "outputs": [],
   "source": [
    "apto = np.array([67, 250])"
   ]
  },
  {
   "cell_type": "markdown",
   "id": "65fd7053-d1f4-43e7-964e-0c84eb49180e",
   "metadata": {},
   "source": [
    "Se continuarmos incluindo mais uma informação como a quantidade de quartos, teremos vetor três eixos:"
   ]
  },
  {
   "cell_type": "code",
   "execution_count": 3,
   "id": "8d979c3e-8baf-4e3c-99e0-ecb0bce13523",
   "metadata": {},
   "outputs": [],
   "source": [
    "apto = np.array([67, 250, 2])"
   ]
  },
  {
   "cell_type": "markdown",
   "id": "df1ab08c-9e0b-4098-a34b-c8ed788ecc35",
   "metadata": {},
   "source": [
    "E podemos continuar adicionando informações no vetor e a cada novo valor aumentamos um eixo do vetor.\n",
    "\n",
    "&emsp; Abaixo é mostrado como um vetor pode ser representado visualmente até o terceiro eixo.\n",
    "\n",
    "![fig1](http://www.sakurai.dev.br/images/posts/2019-06-21-revisao-algebra-linear-python-01.png)\n",
    "\n",
    "## **Métodos úteis da np.array**"
   ]
  },
  {
   "cell_type": "code",
   "execution_count": 4,
   "id": "a6a57348-b49d-43eb-9c7c-a75d40713a64",
   "metadata": {},
   "outputs": [
    {
     "data": {
      "text/plain": [
       "4"
      ]
     },
     "execution_count": 4,
     "metadata": {},
     "output_type": "execute_result"
    }
   ],
   "source": [
    "x = np.array([1, 2, 3, 4])\n",
    "x.sum() # soma dos valores do vetor = 10\n",
    "x.min() # menor valor do vetor = 1\n",
    "x.max() # maior valor do vetor = 4"
   ]
  },
  {
   "cell_type": "markdown",
   "id": "8bd3558d-4c94-4e98-b4a4-dca91afedf62",
   "metadata": {},
   "source": [
    "## **Soma de vetores**\n",
    "\n",
    "Dois ou mais vetores (de tamanho igual) podem ser somados e para isso é calculado a soma de cada elemento nas mesmas posições do vetor, exemplo:\n",
    "\n",
    "Exemplo: quando temos um vetor com valores de almoço e outro vetor com valores de gorjetas, podemos somar os dois vetores para obter o valor total de cada refeição."
   ]
  },
  {
   "cell_type": "code",
   "execution_count": 5,
   "id": "d5cb59ff-1c1a-42d7-8ab7-8049d39b08fd",
   "metadata": {},
   "outputs": [],
   "source": [
    "x = np.array([1, 2, 3, 4])\n",
    "y = np.array([5, 6, 7, 8])\n",
    "soma = x + y  #[6, 8, 10, 12]"
   ]
  },
  {
   "cell_type": "markdown",
   "id": "3cae4944-7715-4d7e-8453-bb7243ed20a7",
   "metadata": {},
   "source": [
    "## **Soma escalar**\n",
    "\n",
    "Também é possível fazer a soma escalar (com um número) no vetor, então um valor é somado a cada elemento do vetor. Exemplo, suponha um conjunto de média de notas dos alunos, e o professor bonzinho resolve dar 0.5 pontos para cada aluno:"
   ]
  },
  {
   "cell_type": "code",
   "execution_count": 6,
   "id": "c9ca39e9-6063-4cc6-9fb1-cce6442a86f5",
   "metadata": {},
   "outputs": [],
   "source": [
    "notas = np.array([6.5, 8.0, 7.5, 4.5, 9.0, 6.5, 6.0, 5.5, 7.0, 8.0, 6.5, 7.5])\n",
    "soma = notas + 0.5  #[7.0, 8.5, 8.0, 5.0, 9.5, 7.0, 6.5, 6.0, 7.5, 8.5, 7.0, 8.0]"
   ]
  },
  {
   "cell_type": "markdown",
   "id": "93687f46-3b51-4efd-83c0-f84c88ff3b0a",
   "metadata": {},
   "source": [
    "## **Operações do array no Numpy**\n",
    "\n",
    "Com o novo vetor de notas, queremos saber quais os alunos obtiveram nota maior ou igual a 7.0 e foram aprovados. Para isso, podemos aplicar uma comparação a cada elemento do vetor, exemplo:"
   ]
  },
  {
   "cell_type": "code",
   "execution_count": 7,
   "id": "4a0bb80d-7920-4f69-9ebd-f42fd89f919d",
   "metadata": {},
   "outputs": [],
   "source": [
    "aprovados = soma >= 7.0\n",
    "# o resultado é um vetor de booleanos: \n",
    "# array([True, True, True, False, True, True, False, False, True, True, True, True], dtype=bool) \n",
    "# que indica com True as notas que são maior ou igual a 7,0 e False as notas menores que 7,0."
   ]
  },
  {
   "cell_type": "markdown",
   "id": "4335691e-2ddd-4ddb-99a6-f52c3d1d97ef",
   "metadata": {},
   "source": [
    "E contar quantos valores são **True**, portanto tem nota maior ou igual a 7.0:"
   ]
  },
  {
   "cell_type": "code",
   "execution_count": 10,
   "id": "21e0e380-a1f6-457e-a2a9-cf2211b59b08",
   "metadata": {},
   "outputs": [
    {
     "data": {
      "text/plain": [
       "9"
      ]
     },
     "execution_count": 10,
     "metadata": {},
     "output_type": "execute_result"
    }
   ],
   "source": [
    "qtdAprovados = sum(soma >= 7.0) \n",
    "qtdAprovados"
   ]
  },
  {
   "cell_type": "markdown",
   "id": "34e564ad-02b4-4412-825f-3d6d2398429b",
   "metadata": {},
   "source": [
    "O mesmo pode ser feito para saber quantos alunos tiveram a nota menor que 7.0 e foram reprovados. Podemos aplicar uma comparação a cada elemento do vetor, exemplo:"
   ]
  },
  {
   "cell_type": "code",
   "execution_count": 11,
   "id": "2377148a-1701-4c2a-ac58-b21d4babed6f",
   "metadata": {},
   "outputs": [
    {
     "data": {
      "text/plain": [
       "array([False, False, False,  True, False, False,  True,  True, False,\n",
       "       False, False, False])"
      ]
     },
     "execution_count": 11,
     "metadata": {},
     "output_type": "execute_result"
    }
   ],
   "source": [
    "reprovados = soma < 7.0\n",
    "reprovados"
   ]
  },
  {
   "cell_type": "markdown",
   "id": "821068cd-4d35-4641-832c-b1f41f39201d",
   "metadata": {},
   "source": [
    "E contar quantos valores são **True**, portanto tem nota menor que 7.0:"
   ]
  },
  {
   "cell_type": "code",
   "execution_count": 12,
   "id": "09321b46-4e35-488e-a433-ca46efca64de",
   "metadata": {},
   "outputs": [
    {
     "data": {
      "text/plain": [
       "3"
      ]
     },
     "execution_count": 12,
     "metadata": {},
     "output_type": "execute_result"
    }
   ],
   "source": [
    "qtdReprovados = sum(soma < 7.0)\n",
    "qtdReprovados"
   ]
  },
  {
   "cell_type": "markdown",
   "id": "dd1cbf46-e874-44f6-8850-d61c4cff62dc",
   "metadata": {},
   "source": [
    "## **Multiplicação de vetores**\n",
    "\n",
    "Dois ou mais vetores podem ser multiplicados e para isso é calculado a multiplicação de cada elemento nas mesmas posições do vetor, exemplo:"
   ]
  },
  {
   "cell_type": "code",
   "execution_count": 14,
   "id": "19d1e12d-1275-49e2-9811-98c5feb99fc0",
   "metadata": {},
   "outputs": [
    {
     "data": {
      "text/plain": [
       "array([ 5, 12, 21, 32])"
      ]
     },
     "execution_count": 14,
     "metadata": {},
     "output_type": "execute_result"
    }
   ],
   "source": [
    "x = np.array([1, 2, 3, 4])\n",
    "y = np.array([5, 6, 7, 8])\n",
    "mult = x * y\n",
    "mult"
   ]
  },
  {
   "cell_type": "markdown",
   "id": "60a73d07-a001-4063-aaa2-4dceaa03cb59",
   "metadata": {},
   "source": [
    "Se temos um vetor com as notas de um aluno:"
   ]
  },
  {
   "cell_type": "code",
   "execution_count": 16,
   "id": "28bd2b69-7d25-442f-8831-5925f255bd79",
   "metadata": {},
   "outputs": [],
   "source": [
    "notas = np.array([8.0, 7.0, 7.5, 9.5, 10.0])"
   ]
  },
  {
   "cell_type": "markdown",
   "id": "da12ed37-cc8b-4fa5-89c2-b57c023f6a5d",
   "metadata": {},
   "source": [
    "E temos um vetor com o peso que representa cada uma das notas na disciplina:"
   ]
  },
  {
   "cell_type": "code",
   "execution_count": 19,
   "id": "fc196d6b-d8fb-4d80-9ffa-e94bdfc62b2a",
   "metadata": {},
   "outputs": [],
   "source": [
    "pesos = np.array([0.2, 0.1, 0.1, 0.3, 0.3])"
   ]
  },
  {
   "cell_type": "markdown",
   "id": "febd02ca-4b01-4f20-8ccb-fb242ef177bd",
   "metadata": {},
   "source": [
    "Se multiplicarmos os dois vetores e somar seus valores, temos como resultado a nota que este aluno teve na disciplina:"
   ]
  },
  {
   "cell_type": "code",
   "execution_count": 20,
   "id": "3cc054be-a3dc-42a9-bdbf-c0bda90c08ea",
   "metadata": {},
   "outputs": [],
   "source": [
    "notaFinal = sum(notas * pesos)"
   ]
  },
  {
   "cell_type": "markdown",
   "id": "e595f844-233f-409f-a902-de58df31ab10",
   "metadata": {},
   "source": [
    "## **Multiplicação de escalar**\n",
    "\n",
    "Também é possível fazer a multiplicação escalar (com um número) no vetor, então um valor é multiplicado a cada elemento do vetor. Exemplo, suponha que temos um vetor os valores pagos com comida em um restaurante: "
   ]
  },
  {
   "cell_type": "code",
   "execution_count": 21,
   "id": "91775d14-40c8-446d-9a98-77b477c11b38",
   "metadata": {},
   "outputs": [],
   "source": [
    "valores = np.array([18.0, 16.5, 17.0, 19.5, 18.5])"
   ]
  },
  {
   "cell_type": "markdown",
   "id": "7b194d7a-d731-4239-bb7f-42829eac6135",
   "metadata": {},
   "source": [
    "E queremos calcular 10% de gorjetas para cada um dos valores:"
   ]
  },
  {
   "cell_type": "code",
   "execution_count": 23,
   "id": "fa30f8f4-a0cf-4041-aa2b-ad5e2a638ea0",
   "metadata": {},
   "outputs": [
    {
     "data": {
      "text/plain": [
       "array([1.8 , 1.65, 1.7 , 1.95, 1.85])"
      ]
     },
     "execution_count": 23,
     "metadata": {},
     "output_type": "execute_result"
    }
   ],
   "source": [
    "gorjeta = valores * .1\n",
    "gorjeta"
   ]
  },
  {
   "cell_type": "markdown",
   "id": "237525db-136e-436a-9d76-8e5873fd44fe",
   "metadata": {},
   "source": [
    "Se quiser saber o total de gorjeta é só somar o vetor **sum(gorjeta)**\n",
    "\n",
    "## **Produto interno de vetores**\n",
    "\n",
    "O produto escalar de dois vetores é dado por: \n",
    "\n",
    "$\\sum^{n-1}_{i=0} x_i . y_i = x_0 . y_0 + x_1 . y_1+...+x_n.y_n$\n",
    "\n",
    "sendo **x** e **y**, dois vetores de tamanho iguais e **n** o tamanho dos vetores, o produto escalar é a somatória da multiplicação de dois vetores, exemplo:"
   ]
  },
  {
   "cell_type": "code",
   "execution_count": 24,
   "id": "d413ffee-4bd6-459e-9679-a405ba321598",
   "metadata": {},
   "outputs": [
    {
     "data": {
      "text/plain": [
       "70"
      ]
     },
     "execution_count": 24,
     "metadata": {},
     "output_type": "execute_result"
    }
   ],
   "source": [
    "x = np.array([1, 2, 3, 4])\n",
    "y = np.array([5, 6, 7, 8])\n",
    "prod = np.dot(x, y)\n",
    "prod"
   ]
  },
  {
   "cell_type": "markdown",
   "id": "51994aa3-9e3e-4ba3-9153-567b25e5d302",
   "metadata": {},
   "source": [
    "Para calcular a soma dos quadrados de um vetor, também podemos usar o produto escalar como mostrado: \n",
    "\n",
    "$\\sum^{n-1}_{i=0} x^2_i = x^2_0 + x^2_1 + ... + x^2_n$"
   ]
  },
  {
   "cell_type": "code",
   "execution_count": 26,
   "id": "04630054-aa56-43e2-9086-f3adbf015fb3",
   "metadata": {},
   "outputs": [
    {
     "data": {
      "text/plain": [
       "30"
      ]
     },
     "execution_count": 26,
     "metadata": {},
     "output_type": "execute_result"
    }
   ],
   "source": [
    "x = np.array([1, 2, 3, 4])\n",
    "prod = np.dot(x, x)\n",
    "prod"
   ]
  },
  {
   "cell_type": "markdown",
   "id": "92e5f98f-da69-47b6-b612-4e8f6fc8c03b",
   "metadata": {},
   "source": [
    "## **Distância ente vetores**\n",
    "\n",
    "Na imagem abaixo temos o vetor **[1, 4] (quadrado verde)** e um vetor **[2, 1] (quadrado azul)**. Temos um novo vetor **[4, 2] (triângulo vermelho)**, mas gostaríamos de classificar este novo vetor como quadrado verde ou azul. Para isso podemos verificar qual o quadrado mais próximo e usar a mesma cor, mas qual quadrado está mais perto do triângulo?\n",
    "\n",
    "![fig_2](http://www.sakurai.dev.br/images/posts/2019-06-21-revisao-algebra-linear-python-04.png)\n",
    "\n",
    "Podemos pela imagem abaixo perceber que o quadrado azul está mais próximo do triângulo vermelho, então podemos classificar este novo vetor como um quadrado azul.\n",
    "\n",
    "![fig_3](http://www.sakurai.dev.br/images/posts/2019-06-21-revisao-algebra-linear-python-05.png)\n",
    "\n",
    "Uma das formas de calcular a distância entre vetores é usando a **Distância Euclidiana**, que é dada pela equação: $$\\sqrt{\\sum^{n-1}_{i=0} (a_i - b_i)^2}$$\n",
    "\n",
    "Então, na **Figura 7** calculamos a distância euclidiana entre o vetor **[1, 4] (quadrado verde)** com o vetor  **[4, 2] (triângulo vermelho)**.\n",
    "\n",
    "Distância Euclidiana: $\\sqrt{(1 - 4)^2+(4-2)^2} = \\sqrt{9+4} = \\sqrt{13} = 3.6055$\n",
    "\n",
    "E na fórmula abaixo calculamos a distância euclidiana entre o vetor **[2, 1] (quadrado azul)** com o vetor **[4, 2] (triângulo vermelho)** $$\\sqrt{(2-4)^2+(1-2)^2} = \\sqrt{4+1} = \\sqrt{5}=2.2360$$\n",
    "\n",
    "Portanto, sabemos que a menor distância é em relação ao quadrado azul.\n",
    "\n",
    "Usando Python, podemos calcular a distância entre os vetores:"
   ]
  },
  {
   "cell_type": "code",
   "execution_count": 27,
   "id": "8db02c1a-4cf0-418a-b1f2-a38d06c22afe",
   "metadata": {},
   "outputs": [],
   "source": [
    "qv = np.array([1,4])    # Quadrado verde\n",
    "qa = np.array([2,1])    # Quadrado azul\n",
    "tv = np.array([4,2])    # Triângulo vermelho"
   ]
  },
  {
   "cell_type": "markdown",
   "id": "0556792c-ea11-40a8-b656-0ba707c4972c",
   "metadata": {},
   "source": [
    "com:"
   ]
  },
  {
   "cell_type": "code",
   "execution_count": 28,
   "id": "74aa8904-2850-4396-b3de-7df1f8c826c7",
   "metadata": {},
   "outputs": [
    {
     "name": "stdout",
     "output_type": "stream",
     "text": [
      "Distancia Quadrado Verde 3.605551275463989\n",
      "Distancia Quadrado Azul 2.23606797749979\n"
     ]
    }
   ],
   "source": [
    "distanciaQuadradoVerde = np.sqrt(sum((qv - tv) ** 2))\n",
    "distanciaQuadradoAzul  = np.sqrt(sum((qa - tv) ** 2))\n",
    "\n",
    "print('Distancia Quadrado Verde {}\\nDistancia Quadrado Azul {}'.format(distanciaQuadradoVerde, \n",
    "                                                                       distanciaQuadradoAzul))"
   ]
  },
  {
   "cell_type": "markdown",
   "id": "e7b423da-daad-46c3-b3ec-2ca0552c7222",
   "metadata": {},
   "source": [
    "## **Matrizes**\n",
    "\n",
    "Matriz é formada por um conjunto de vetores, normalmente representada em maíusculo, como **A[m,n]** que tem **m** linhas por **n** colunas. O Numpy tem o objeto **matrix** que representa uma matriz, por exemplo:"
   ]
  },
  {
   "cell_type": "code",
   "execution_count": 29,
   "id": "1ccb8701-f096-48e9-a07b-64190bc9e0ae",
   "metadata": {},
   "outputs": [],
   "source": [
    "A = np.matrix([[1, 2, 3, 4],\n",
    "               [5, 6, 7, 8]])"
   ]
  },
  {
   "cell_type": "markdown",
   "id": "e26fa026-7d6a-47be-9e05-72a913715d19",
   "metadata": {},
   "source": [
    "Nesse caso dizemos que a matriz **A** tem tamanho **[2,4]**, ou duas linhas e quatro colunas. Para acessar uma determinada posição da matriz precisamos informar os valores da linha e coluna, lembrando que os índices começam com **zero**, o valor da posição **A[1, 3]** é **8**.\n",
    "\n",
    "## **Soma de matrizes**\n",
    "\n",
    "A soma de matrizes: "
   ]
  },
  {
   "cell_type": "code",
   "execution_count": 31,
   "id": "deee6071-6471-4fd4-b4a4-38aa8de3d154",
   "metadata": {},
   "outputs": [
    {
     "data": {
      "text/plain": [
       "matrix([[ 2,  4,  6,  8],\n",
       "        [10, 12, 14, 16]])"
      ]
     },
     "execution_count": 31,
     "metadata": {},
     "output_type": "execute_result"
    }
   ],
   "source": [
    "A = np.matrix([[1, 2, 3, 4], \n",
    "               [5, 6, 7, 8]])\n",
    "B = np.matrix([[1, 2, 3, 4], \n",
    "               [5, 6, 7, 8]])\n",
    "\n",
    "SOMA = A + B\n",
    "SOMA"
   ]
  },
  {
   "cell_type": "markdown",
   "id": "b33aa87d-fea1-443f-a0c1-0aab6cabb106",
   "metadata": {},
   "source": [
    "## Transposta\n",
    "\n",
    "Com o Numpy podemos obter facilmente a transposta de uma matriz:"
   ]
  },
  {
   "cell_type": "code",
   "execution_count": 33,
   "id": "f50fcffb-725e-4159-91b1-0dc318349ecb",
   "metadata": {},
   "outputs": [
    {
     "data": {
      "text/plain": [
       "matrix([[1, 5],\n",
       "        [2, 6],\n",
       "        [3, 7],\n",
       "        [4, 8]])"
      ]
     },
     "execution_count": 33,
     "metadata": {},
     "output_type": "execute_result"
    }
   ],
   "source": [
    "A = np.matrix([[1, 2, 3, 4], \n",
    "               [5, 6, 7, 8]])\n",
    "A.T"
   ]
  },
  {
   "cell_type": "markdown",
   "id": "e66bb0eb-4928-48ed-a196-e4f52b3b0b1a",
   "metadata": {},
   "source": [
    "## Multiplicaçaõ de matrizes\n",
    "\n",
    "Para multiplicar duas matrizes é necessário que uma matriz **A** tenha dimensão **m x n** equanto a matriz **B** tenha dimensão **n x m**, como resultado tomar uma matriz de dimensão **m x n**."
   ]
  },
  {
   "cell_type": "code",
   "execution_count": 34,
   "id": "7362f29a-0501-4f29-a061-bf527541c114",
   "metadata": {},
   "outputs": [
    {
     "data": {
      "text/plain": [
       "matrix([[ 50,  60],\n",
       "        [114, 140]])"
      ]
     },
     "execution_count": 34,
     "metadata": {},
     "output_type": "execute_result"
    }
   ],
   "source": [
    "A = np.matrix([[1, 2, 3, 4], \n",
    "               [5, 6, 7, 8]])\n",
    "B = np.matrix([[1, 2],\n",
    "               [3, 4], \n",
    "               [5, 6],\n",
    "               [7, 8]])\n",
    "mult = A * B \n",
    "mult"
   ]
  },
  {
   "cell_type": "markdown",
   "id": "ee2d8993-2ae8-439f-a7a3-0cb2fe14cea6",
   "metadata": {},
   "source": [
    "# Conclusão\n",
    "\n",
    "<p> Como vemos acima as matrizes são a base fundamental do Numpy, portanto quando precisarmos trabalhar com conjuntos de dados é fácil ver que estamos aplicando álgebra em todas as nossas manipulações."
   ]
  }
 ],
 "metadata": {
  "kernelspec": {
   "display_name": "Python 3",
   "language": "python",
   "name": "python3"
  },
  "language_info": {
   "codemirror_mode": {
    "name": "ipython",
    "version": 3
   },
   "file_extension": ".py",
   "mimetype": "text/x-python",
   "name": "python",
   "nbconvert_exporter": "python",
   "pygments_lexer": "ipython3",
   "version": "3.8.8"
  }
 },
 "nbformat": 4,
 "nbformat_minor": 5
}
