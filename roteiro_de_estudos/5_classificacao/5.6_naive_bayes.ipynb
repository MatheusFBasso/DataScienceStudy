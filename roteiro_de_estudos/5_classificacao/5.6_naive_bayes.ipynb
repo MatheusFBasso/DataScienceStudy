{
 "cells": [
  {
   "cell_type": "markdown",
   "id": "a805ff2d-532d-4af1-bef7-ce586b861dc2",
   "metadata": {},
   "source": [
    "# Naive Bayes\n",
    "\n",
    "Naive Bayes é uma técnica de classificação estatística baseada no Teorema de Bayes. É um dos algoritmos de aprendizagem supervisionada mais simples. O classificador Naive Bayes é o algoritmo rápido, preciso e confiável. Os classificadores Naive Bayes têm alta precisão e velocidade em grandes conjuntos de dados.\n",
    "\n",
    "O classificador Naive Bayes assume que o efeito de um determinado recurso em uma classe é independente de outros recursos. Por exemplo, um solicitante de empréstimo é desejável ou não, dependendo de sua renda, empréstimo anterior e histórico de transações, idade e localização. Mesmo que esses recursos sejam interdependentes, eles ainda são considerados de forma independente. Essa suposição simplifica o cálculo e é por isso que é considerada ingênua. Essa suposição é chamada de independência condicional de classe.\n",
    "\n",
    "$$P(h|D)=\\frac{P(D|h)P(h)}{P(D)}$$\n",
    "\n",
    "onde:\n",
    "\n",
    "* P(h): a probabilidade da hipótese h ser verdadeira (independentemente dos dados). Isso é conhecido como a probabilidade anterior de h.\n",
    "\n",
    "* P(D): a probabilidade dos dados (independentemente da hipótese). Isso é conhecido como probabilidade anterior.\n",
    "\n",
    "* P(h|D): a probabilidade da hipótese h dados os dados D. Isso é conhecido como probabilidade posterior.\n",
    "\n",
    "* P(D|h): a probabilidade do dado d dado que a hipótese h fosse verdadeira. Isso é conhecido como probabilidade posterior.\n",
    "\n",
    "Podendo ser aplicado em casos como:\n",
    "\n",
    "* Classificação de usuários;\n",
    "* Detecção de Spam;\n",
    "* Análise de crédito;\n",
    "\n",
    "## Tipos de Classificadores de Naive Bayes\n",
    "\n",
    "### **Gaussiano**: \n",
    "\n",
    "Este classificador é usado quando os valores dos preditores são de natureza contínua e presume-se que eles seguem a distribuição Gaussiana.\n",
    "\n",
    "![fig_1](https://www.researchgate.net/profile/Yune-Lee/publication/255695722/figure/fig1/AS:297967207632900@1448052327024/Illustration-of-how-a-Gaussian-Naive-Bayes-GNB-classifier-works-For-each-data-point.png)\n",
    "\n",
    "Para cada ponto de dados, é calculada a distância do z-score entre esse ponto e cada média da classe, ou seja, a distância da média da classe dividida pelo desvio padrão dessa classe. Observe que este esquema mostra apenas uma dimensão, enquanto uma distinção crucial entre GNBs e outros classificadores surge apenas quando há mais de uma dimensão de entrada: o GNB não modela a covariância entre as dimensões, mas outros tipos de classificador o fazem.\n",
    "\n",
    "#### Em Python"
   ]
  },
  {
   "cell_type": "code",
   "execution_count": 12,
   "id": "165076a6-a16e-4df3-9fe7-b6c8d50aae5f",
   "metadata": {},
   "outputs": [
    {
     "name": "stdout",
     "output_type": "stream",
     "text": [
      "0.9466666666666667\n"
     ]
    },
    {
     "data": {
      "image/png": "[encoded data removed]",
      "text/plain": [
       "<Figure size 1152x648 with 1 Axes>"
      ]
     },
     "metadata": {},
     "output_type": "display_data"
    }
   ],
   "source": [
    "from sklearn.naive_bayes import GaussianNB\n",
    "from sklearn.model_selection import train_test_split\n",
    "from sklearn.metrics import confusion_matrix\n",
    "import numpy as np\n",
    "import pandas as pd\n",
    "import matplotlib.pyplot as plt\n",
    "import seaborn as sns; sns.set()\n",
    "from sklearn.datasets import load_iris\n",
    "\n",
    "X, y = load_iris(return_X_y=True)\n",
    "X_train, X_test, y_train, y_test = train_test_split(X, y, test_size=0.5, random_state=0)\n",
    "gnb = GaussianNB()\n",
    "y_pred = gnb.fit(X_train, y_train).predict(X_test)\n",
    "\n",
    "print(gnb.score(X_test, y_test))\n",
    "mat = confusion_matrix(y_pred, y_test)\n",
    "names = np.unique(y_pred)\n",
    "plt.figure(figsize = (16,9))\n",
    "sns.heatmap(mat, square=True, annot=True, fmt='d', cbar=False,\n",
    "            xticklabels=names, yticklabels=names)\n",
    "plt.xlabel('Truth')\n",
    "plt.ylabel('Predicted')\n",
    "plt.show()"
   ]
  },
  {
   "cell_type": "code",
   "execution_count": 3,
   "id": "8b248171-cbcc-4f53-a13d-fcf2b4126e6d",
   "metadata": {},
   "outputs": [
    {
     "data": {
      "text/plain": [
       "0.9111111111111111"
      ]
     },
     "execution_count": 3,
     "metadata": {},
     "output_type": "execute_result"
    }
   ],
   "source": [
    "gnb.score(X_test, y_test)"
   ]
  },
  {
   "cell_type": "markdown",
   "id": "aa71b245-096c-4743-888e-0cfe4bbaa929",
   "metadata": {},
   "source": [
    "## Bernoulli:\n",
    "\n",
    "É usado para dados discretos e funciona na distribuição Bernoulli. A principal característica do Bernoulli Naive Bayes é que ele aceita recursos apenas como valores binários como verdadeiro ou falso, sim ou não, sucesso ou falha, 0 ou 1 e assim por diante. Portanto, quando os valores dos recursos são binários, sabemos que temos que usar o classificador Bernoulli Naive Bayes.\n",
    "\n",
    "### Em Python"
   ]
  },
  {
   "cell_type": "code",
   "execution_count": 4,
   "id": "00e416ed-9113-4156-b348-03195e5b676f",
   "metadata": {},
   "outputs": [],
   "source": [
    "from sklearn.naive_bayes import BernoulliNB \n",
    "from sklearn.metrics import accuracy_score"
   ]
  },
  {
   "cell_type": "code",
   "execution_count": 21,
   "id": "d382827e-9ced-4dc0-b239-ac6a8abd52f4",
   "metadata": {},
   "outputs": [
    {
     "name": "stdout",
     "output_type": "stream",
     "text": [
      "0.6\n"
     ]
    },
    {
     "data": {
      "image/png": "[encoded data removed]",
      "text/plain": [
       "<Figure size 1152x648 with 1 Axes>"
      ]
     },
     "metadata": {},
     "output_type": "display_data"
    }
   ],
   "source": [
    "bnb = BernoulliNB(binarize = True)\n",
    "\n",
    "# Train the model \n",
    "bnb.fit(X_train, y_train)\n",
    "\n",
    "# Predict Output \n",
    "y_pred = bnb.predict(X_test)\n",
    "print(bnb.score(X_test, y_test))\n",
    "mat = confusion_matrix(y_pred, y_test)\n",
    "names = np.unique(y_pred)\n",
    "plt.figure(figsize = (16,9))\n",
    "sns.heatmap(mat, square=True, annot=True, fmt='d', cbar=False,\n",
    "            xticklabels=names, yticklabels=names)\n",
    "plt.xlabel('Truth')\n",
    "plt.ylabel('Predicted')\n",
    "plt.show()"
   ]
  },
  {
   "cell_type": "markdown",
   "id": "d23b3b6e-3668-4330-814e-97fa9435a2ae",
   "metadata": {},
   "source": [
    "## Vantagens\n",
    "* funciona muito rápido e pode prever facilmente a classe de um conjunto de dados de teste.\n",
    "\n",
    "* pode usá-lo para resolver problemas de previsão de várias classes, pois é bastante útil com eles.\n",
    "\n",
    "* O classificador Naive Bayes tem um desempenho melhor do que outros modelos com menos dados de treinamento se a suposição de independência de recursos for mantida.\n",
    "\n",
    "* Se você tiver variáveis de entrada categóricas, o algoritmo Naive Bayes terá um desempenho excepcionalmente bom em comparação com as variáveis numéricas.\n",
    "\n",
    "## Desvantagens\n",
    "\n",
    "* Se o seu conjunto de dados de teste tem uma variável categórica de uma categoria que não estava presente no conjunto de dados de treinamento, o modelo Naive Bayes atribuirá probabilidade zero e não será capaz de fazer quaisquer previsões a esse respeito. Este fenômeno é chamado de ‘Zero Frequency’, e você terá que usar uma técnica de suavização para resolver este problema.\n",
    "\n",
    "* Este algoritmo também é notório como um estimador ruim. Portanto, você não deve levar as saídas de probabilidade de ‘Predict_proba’ muito a sério.\n",
    "\n",
    "* Ele pressupõe que todos os recursos são independentes. Embora possa parecer ótimo na teoria, na vida real, você dificilmente encontrará um conjunto de recursos independentes."
   ]
  }
 ],
 "metadata": {
  "kernelspec": {
   "display_name": "Python 3 (ipykernel)",
   "language": "python",
   "name": "python3"
  },
  "language_info": {
   "codemirror_mode": {
    "name": "ipython",
    "version": 3
   },
   "file_extension": ".py",
   "mimetype": "text/x-python",
   "name": "python",
   "nbconvert_exporter": "python",
   "pygments_lexer": "ipython3",
   "version": "3.8.11"
  }
 },
 "nbformat": 4,
 "nbformat_minor": 5
}
