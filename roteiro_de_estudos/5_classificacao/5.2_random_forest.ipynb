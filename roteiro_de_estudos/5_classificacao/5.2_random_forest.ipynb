{
 "cells": [
  {
   "cell_type": "markdown",
   "id": "34c88ed2",
   "metadata": {},
   "source": [
    "# 5.2 - Random Forest\n",
    "\n",
    "Random Forest é um algoritmo de aprendizado de máquina comumente usado, registrado por Leo Breiman e Adele Cutler, que combina a saída de várias árvores de decisão para chegar a um único resultado. Sua facilidade de uso e flexibilidade impulsionaram sua adoção, uma vez que lida com problemas de classificação e regressão.\n",
    "\n",
    "While decision trees are common supervised learning algorithms, they can be prone to problems, such as bias and overfitting. However, when multiple decision trees form an ensemble in the random forest algorithm, they predict more accurate results, particularly when the individual trees are uncorrelated with each other.\n",
    "\n",
    "**Ensemble Methods**\n",
    "\n",
    "Os métodos de aprendizagem do conjunto são compostos por um conjunto de classificadores - por exemplo, árvores de decisão - e suas previsões são agregadas para identificar o resultado mais popular. Os métodos de conjunto mais conhecidos são bagging, também conhecido como agregação de bootstrap, e boosting. Em 1996, Leo Breiman introduziu o método de ensacamento; neste método, uma amostra aleatória de dados em um conjunto de treinamento é selecionada com substituição - o que significa que os pontos de dados individuais podem ser escolhidos mais de uma vez. Depois que várias amostras de dados são geradas, esses modelos são treinados de forma independente e dependendo do tipo de tarefa - ou seja, regressão ou classificação - a média ou a maioria dessas previsões produzem uma estimativa mais precisa. Essa abordagem é comumente usada para reduzir a variação em um conjunto de dados ruidoso.\n",
    "\n",
    "**Random forest algorithm**\n",
    "\n",
    "O algoritmo de floresta aleatória é uma extensão do método de ensacamento, pois utiliza ensacamento e aleatoriedade de recursos para criar uma floresta não correlacionada de árvores de decisão. A aleatoriedade de recursos, também conhecida como bagging de recursos ou “o método do subespaço aleatório”, gera um subconjunto aleatório de recursos, que garante baixa correlação entre as árvores de decisão. Esta é uma diferença fundamental entre árvores de decisão e florestas aleatórias. Enquanto as árvores de decisão consideram todas as divisões de recursos possíveis, as florestas aleatórias selecionam apenas um subconjunto desses recursos.\n",
    "\n",
    "## Como funciona\n",
    "\n",
    "Os algoritmos de floresta aleatória têm três hiperparâmetros principais, que precisam ser definidos antes do treinamento. Isso inclui o tamanho do nó, o número de árvores e o número de recursos amostrados. A partir daí, o classificador de floresta aleatório pode ser usado para resolver problemas de regressão ou classificação.\n",
    "\n",
    "O algoritmo de floresta aleatória é composto por uma coleção de árvores de decisão, e cada árvore do conjunto é composta por uma amostra de dados retirada de um conjunto de treinamento com substituição, chamada de amostra bootstrap. Dessa amostra de treinamento, um terço é reservado como dados de teste, conhecido como amostra out-of-bag (oob), à qual voltaremos mais tarde. Outra instância de aleatoriedade é então injetada por meio do empacotamento de recursos, adicionando mais diversidade ao conjunto de dados e reduzindo a correlação entre as árvores de decisão. Dependendo do tipo de problema, a determinação da previsão irá variar. Para uma tarefa de regressão, será calculada a média das árvores de decisão individuais e, para uma tarefa de classificação, uma votação majoritária - ou seja. a variável categórica mais frequente - produzirá a classe prevista. Finalmente, a amostra oob é então usada para validação cruzada, finalizando essa previsão.\n",
    "\n",
    "![fig_1](https://i.ibb.co/VJVqhnc/random-forest-drawio.png)\n",
    "\n"
   ]
  },
  {
   "cell_type": "markdown",
   "id": "1c3752af",
   "metadata": {},
   "source": [
    "## Vantagens\n",
    "\n",
    "* As florestas aleatórias são consideradas um método altamente preciso e robusto devido ao número de árvores de decisão que participam do processo.\n",
    "* Ele não sofre do problema de overfitting. A principal razão é que leva a média de todas as previsões, o que cancela os vieses.\n",
    "* O algoritmo pode ser usado em problemas de classificação e regressão.\n",
    "* Florestas aleatórias também podem lidar com valores ausentes. Existem duas maneiras de lidar com isso: usando valores medianos para substituir variáveis contínuas e computando a média ponderada por proximidade de valores ausentes.\n",
    "* Você pode obter a importância relativa do recurso, o que ajuda a selecionar os recursos que mais contribuem para o classificador."
   ]
  },
  {
   "cell_type": "markdown",
   "id": "df0b2054",
   "metadata": {},
   "source": [
    "## Desvantagens\n",
    "\n",
    "* As florestas aleatórias demoram a gerar previsões porque têm várias árvores de decisão. Sempre que faz uma previsão, todas as árvores na floresta têm que fazer uma previsão para o mesmo dado de entrada e, em seguida, votar nela. Todo esse processo é demorado.\n",
    "* O modelo é difícil de interpretar em comparação com uma árvore de decisão, onde você pode facilmente tomar uma decisão seguindo o caminho na árvore."
   ]
  },
  {
   "cell_type": "markdown",
   "id": "690b4ce4",
   "metadata": {},
   "source": [
    "## Em Python\n",
    "\n",
    "### Importando bibliotecas"
   ]
  },
  {
   "cell_type": "code",
   "execution_count": 1,
   "id": "486530ec",
   "metadata": {},
   "outputs": [],
   "source": [
    "from sklearn import datasets\n",
    "import pandas as pd\n",
    "import numpy as np\n",
    "\n",
    "# carregando os conjunto de dados\n",
    "iris = datasets.load_iris()"
   ]
  },
  {
   "cell_type": "markdown",
   "id": "f8f4baf9",
   "metadata": {},
   "source": [
    "Vamos verificar o alvo e os features."
   ]
  },
  {
   "cell_type": "code",
   "execution_count": 5,
   "id": "3d7a8506",
   "metadata": {},
   "outputs": [
    {
     "name": "stdout",
     "output_type": "stream",
     "text": [
      "['setosa' 'versicolor' 'virginica']\n",
      "['sepal length (cm)', 'sepal width (cm)', 'petal length (cm)', 'petal width (cm)']\n"
     ]
    }
   ],
   "source": [
    "print(iris.target_names)\n",
    "print(iris.feature_names)"
   ]
  },
  {
   "cell_type": "code",
   "execution_count": 6,
   "id": "f6d1975a",
   "metadata": {},
   "outputs": [
    {
     "data": {
      "text/html": [
       "<div>\n",
       "<style scoped>\n",
       "    .dataframe tbody tr th:only-of-type {\n",
       "        vertical-align: middle;\n",
       "    }\n",
       "\n",
       "    .dataframe tbody tr th {\n",
       "        vertical-align: top;\n",
       "    }\n",
       "\n",
       "    .dataframe thead th {\n",
       "        text-align: right;\n",
       "    }\n",
       "</style>\n",
       "<table border=\"1\" class=\"dataframe\">\n",
       "  <thead>\n",
       "    <tr style=\"text-align: right;\">\n",
       "      <th></th>\n",
       "      <th>sepal length</th>\n",
       "      <th>sepal width</th>\n",
       "      <th>petal length</th>\n",
       "      <th>petal width</th>\n",
       "      <th>species</th>\n",
       "    </tr>\n",
       "  </thead>\n",
       "  <tbody>\n",
       "    <tr>\n",
       "      <th>0</th>\n",
       "      <td>5.1</td>\n",
       "      <td>3.5</td>\n",
       "      <td>1.4</td>\n",
       "      <td>0.2</td>\n",
       "      <td>0</td>\n",
       "    </tr>\n",
       "    <tr>\n",
       "      <th>1</th>\n",
       "      <td>4.9</td>\n",
       "      <td>3.0</td>\n",
       "      <td>1.4</td>\n",
       "      <td>0.2</td>\n",
       "      <td>0</td>\n",
       "    </tr>\n",
       "    <tr>\n",
       "      <th>2</th>\n",
       "      <td>4.7</td>\n",
       "      <td>3.2</td>\n",
       "      <td>1.3</td>\n",
       "      <td>0.2</td>\n",
       "      <td>0</td>\n",
       "    </tr>\n",
       "    <tr>\n",
       "      <th>3</th>\n",
       "      <td>4.6</td>\n",
       "      <td>3.1</td>\n",
       "      <td>1.5</td>\n",
       "      <td>0.2</td>\n",
       "      <td>0</td>\n",
       "    </tr>\n",
       "    <tr>\n",
       "      <th>4</th>\n",
       "      <td>5.0</td>\n",
       "      <td>3.6</td>\n",
       "      <td>1.4</td>\n",
       "      <td>0.2</td>\n",
       "      <td>0</td>\n",
       "    </tr>\n",
       "  </tbody>\n",
       "</table>\n",
       "</div>"
      ],
      "text/plain": [
       "   sepal length  sepal width  petal length  petal width  species\n",
       "0           5.1          3.5           1.4          0.2        0\n",
       "1           4.9          3.0           1.4          0.2        0\n",
       "2           4.7          3.2           1.3          0.2        0\n",
       "3           4.6          3.1           1.5          0.2        0\n",
       "4           5.0          3.6           1.4          0.2        0"
      ]
     },
     "execution_count": 6,
     "metadata": {},
     "output_type": "execute_result"
    }
   ],
   "source": [
    "data=pd.DataFrame({\n",
    "    'sepal length':iris.data[:,0],\n",
    "    'sepal width':iris.data[:,1],\n",
    "    'petal length':iris.data[:,2],\n",
    "    'petal width':iris.data[:,3],\n",
    "    'species':iris.target\n",
    "})\n",
    "data.head()"
   ]
  },
  {
   "cell_type": "code",
   "execution_count": 7,
   "id": "7675a950",
   "metadata": {},
   "outputs": [],
   "source": [
    "from sklearn.model_selection import train_test_split\n",
    "\n",
    "X=data[['sepal length', 'sepal width', 'petal length', 'petal width']] \n",
    "y=data['species']\n",
    "\n",
    "# Dividir o conjunto de dados em treino e teste\n",
    "X_train, X_test, y_train, y_test = train_test_split(X, y, test_size=0.3)"
   ]
  },
  {
   "cell_type": "code",
   "execution_count": 8,
   "id": "4c0608e7",
   "metadata": {},
   "outputs": [],
   "source": [
    "from sklearn.ensemble import RandomForestClassifier\n",
    "\n",
    "clf=RandomForestClassifier(n_estimators=100)\n",
    "\n",
    "#Train the model using the training sets y_pred=clf.predict(X_test)\n",
    "clf.fit(X_train,y_train)\n",
    "\n",
    "y_pred=clf.predict(X_test)"
   ]
  },
  {
   "cell_type": "code",
   "execution_count": 9,
   "id": "24e50b50",
   "metadata": {},
   "outputs": [
    {
     "name": "stdout",
     "output_type": "stream",
     "text": [
      "Accuracy: 0.9333333333333333\n"
     ]
    }
   ],
   "source": [
    "from sklearn import metrics\n",
    "# Model Accuracy, how often is the classifier correct?\n",
    "print(\"Accuracy:\",metrics.accuracy_score(y_test, y_pred))"
   ]
  },
  {
   "cell_type": "markdown",
   "id": "df27302c",
   "metadata": {},
   "source": [
    "### Encontrando recursos importantes no Scikit-learn\n",
    "\n",
    "Aqui, você encontra recursos importantes ou seleciona recursos no conjunto de dados IRIS. No scikit-learn, você pode executar essa tarefa nas seguintes etapas:\n",
    "\n",
    "* Primeiro, você precisa criar um modelo de floresta aleatório.\n",
    "* Em segundo lugar, use a variável de importância do recurso para ver as pontuações de importância do recurso.\n",
    "* Terceiro, visualize essas pontuações usando a biblioteca marítima."
   ]
  },
  {
   "cell_type": "code",
   "execution_count": 10,
   "id": "40550c98",
   "metadata": {},
   "outputs": [
    {
     "data": {
      "text/plain": [
       "petal length (cm)    0.489625\n",
       "petal width (cm)     0.364376\n",
       "sepal length (cm)    0.120944\n",
       "sepal width (cm)     0.025055\n",
       "dtype: float64"
      ]
     },
     "execution_count": 10,
     "metadata": {},
     "output_type": "execute_result"
    }
   ],
   "source": [
    "clf=RandomForestClassifier(n_estimators=100)\n",
    "clf.fit(X_train,y_train)\n",
    "feature_imp = pd.Series(clf.feature_importances_,index=iris.feature_names).sort_values(ascending=False)\n",
    "feature_imp"
   ]
  },
  {
   "cell_type": "code",
   "execution_count": 11,
   "id": "47ffaecc",
   "metadata": {},
   "outputs": [
    {
     "name": "stderr",
     "output_type": "stream",
     "text": [
      "No handles with labels found to put in legend.\n"
     ]
    },
    {
     "data": {
      "image/png": "[encoded data removed]",
      "text/plain": [
       "<Figure size 432x288 with 1 Axes>"
      ]
     },
     "metadata": {
      "needs_background": "light"
     },
     "output_type": "display_data"
    }
   ],
   "source": [
    "import matplotlib.pyplot as plt\n",
    "import seaborn as sns\n",
    "%matplotlib inline\n",
    "# Creating a bar plot\n",
    "sns.barplot(x=feature_imp, y=feature_imp.index)\n",
    "# Add labels to your graph\n",
    "plt.xlabel('Feature Importance Score')\n",
    "plt.ylabel('Features')\n",
    "plt.title(\"Visualizing Important Features\")\n",
    "plt.legend()\n",
    "plt.show()"
   ]
  },
  {
   "cell_type": "markdown",
   "id": "968e535f",
   "metadata": {},
   "source": [
    "### Gerando o modelo em recursos selecionados\n",
    "\n",
    "Vamos remover \"sepal width (cm)\" por apresentar uma importância muito baixa."
   ]
  },
  {
   "cell_type": "code",
   "execution_count": 13,
   "id": "d726deb1",
   "metadata": {},
   "outputs": [],
   "source": [
    "# Split dataset into features and labels\n",
    "X=data[['petal length', 'petal width','sepal length']]  # Removed feature \"sepal length\"\n",
    "y=data['species']                                       \n",
    "# Split dataset into training set and test set\n",
    "X_train, X_test, y_train, y_test = train_test_split(X, y, test_size=0.70, random_state=5)"
   ]
  },
  {
   "cell_type": "code",
   "execution_count": 14,
   "id": "34dabf62",
   "metadata": {},
   "outputs": [
    {
     "name": "stdout",
     "output_type": "stream",
     "text": [
      "Accuracy: 0.9523809523809523\n"
     ]
    }
   ],
   "source": [
    "clf=RandomForestClassifier(n_estimators=100)\n",
    "\n",
    "#Train the model using the training sets y_pred=clf.predict(X_test)\n",
    "clf.fit(X_train,y_train)\n",
    "\n",
    "# prediction on test set\n",
    "y_pred=clf.predict(X_test)\n",
    "\n",
    "#Import scikit-learn metrics module for accuracy calculation\n",
    "from sklearn import metrics\n",
    "# Model Accuracy, how often is the classifier correct?\n",
    "print(\"Accuracy:\",metrics.accuracy_score(y_test, y_pred))"
   ]
  }
 ],
 "metadata": {
  "kernelspec": {
   "display_name": "Python 3",
   "language": "python",
   "name": "python3"
  },
  "language_info": {
   "codemirror_mode": {
    "name": "ipython",
    "version": 3
   },
   "file_extension": ".py",
   "mimetype": "text/x-python",
   "name": "python",
   "nbconvert_exporter": "python",
   "pygments_lexer": "ipython3",
   "version": "3.8.8"
  }
 },
 "nbformat": 4,
 "nbformat_minor": 5
}
