{
 "cells": [
  {
   "cell_type": "markdown",
   "id": "8135a41c",
   "metadata": {},
   "source": [
    "# 5.4 Regressao Logistica\n",
    "\n",
    "A regressão logística é um método estatístico para prever classes binárias. O resultado ou variável-alvo é dicotômica por natureza. Dicotômico significa que existem apenas duas classes possíveis. Por exemplo, pode ser usado para problemas de detecção de câncer. Ele calcula a probabilidade de ocorrência de um evento.\n",
    "\n",
    "É um caso especial de regressão linear em que a variável de destino é de natureza categórica. Ele usa um log de probabilidades como variável dependente. A regressão logística prevê a probabilidade de ocorrência de um evento binário utilizando uma função logit.\n",
    "\n",
    "Equação de regressão linear: $y = \\beta1X1 + \\beta2X2 + ...+\\beta nXn $\n",
    "\n",
    "Onde, y é a variável dependente e x1, x2 ... e Xn são variáveis explicativas.\n",
    "\n",
    "Função sigmóide: $p=\\frac{1}{1}+e^{-y}$\n",
    "\n",
    "## **Propriedades da regressão logística**:\n",
    "\n",
    "* A variável dependente na regressão logística segue a distribuição de Bernoulli.\n",
    "* A estimativa é feita por máxima verossimilhança.\n",
    "* Sem R Square, a aptidão do modelo é calculada por meio de Concordância, KS-Statistics.\n",
    "\n",
    "![fig_1](https://i.ibb.co/kM2XcWX/boosting-1-drawio-1.png)"
   ]
  },
  {
   "cell_type": "markdown",
   "id": "ce65a140",
   "metadata": {},
   "source": [
    "## **Tipos de Regressão Logística**:\n",
    "\n",
    "* **Regressão logística binária**: a variável de destino tem apenas dois resultados possíveis, como spam ou não spam, câncer ou sem câncer.\n",
    "\n",
    "* **Regressão Logística Multinomial**: A variável-alvo possui três ou mais categorias nominais, como a previsão do tipo de Vinho.\n",
    "\n",
    "* **Regressão logística ordinal**: a variável de destino tem três ou mais categorias ordinais, como restaurante ou classificação do produto de 1 a 5."
   ]
  },
  {
   "cell_type": "markdown",
   "id": "d8cd0ff8",
   "metadata": {},
   "source": [
    "## Em Python:\n",
    "\n",
    "Importando os dados"
   ]
  },
  {
   "cell_type": "code",
   "execution_count": 1,
   "id": "d0185280",
   "metadata": {},
   "outputs": [],
   "source": [
    "import pandas as pd\n",
    "from sklearn.model_selection import train_test_split\n",
    "from sklearn.linear_model import LogisticRegression\n",
    "from sklearn import metrics\n",
    "import numpy as np\n",
    "import matplotlib.pyplot as plt\n",
    "import seaborn as sns\n",
    "import warnings\n",
    "warnings.filterwarnings(\"ignore\")\n",
    "\n",
    "\n",
    "col_names = ['pregnant', 'glucose', 'bp', 'skin', 'insulin', 'bmi', 'pedigree', 'age', 'label']\n",
    "pima = pd.read_csv(r'C:\\Users\\BTK\\Desktop\\matheus_basso\\data\\diabetes.csv', header = None, names = col_names)\n",
    "pima = pima.T.drop(columns = 0).T"
   ]
  },
  {
   "cell_type": "markdown",
   "id": "1f7379c7",
   "metadata": {},
   "source": [
    "Selecionando os dados"
   ]
  },
  {
   "cell_type": "code",
   "execution_count": 2,
   "id": "971446d9",
   "metadata": {},
   "outputs": [],
   "source": [
    "feature_cols = ['pregnant', 'insulin', 'bmi', 'age','glucose','bp','pedigree']\n",
    "X = pima[feature_cols] # Recursos\n",
    "y = pima.label # Variáveis Alvo"
   ]
  },
  {
   "cell_type": "markdown",
   "id": "eb51821e",
   "metadata": {},
   "source": [
    "Dividindo os dados"
   ]
  },
  {
   "cell_type": "code",
   "execution_count": 3,
   "id": "b2ba931c",
   "metadata": {},
   "outputs": [],
   "source": [
    "X_train,X_test,y_train,y_test=train_test_split(X,y,test_size=0.25,random_state=0)"
   ]
  },
  {
   "cell_type": "markdown",
   "id": "cfe103bb",
   "metadata": {},
   "source": [
    "Construindo o modelo"
   ]
  },
  {
   "cell_type": "code",
   "execution_count": 4,
   "id": "7a87140c",
   "metadata": {},
   "outputs": [],
   "source": [
    "logreg = LogisticRegression()\n",
    "logreg.fit(X_train,y_train)\n",
    "y_pred=logreg.predict(X_test)"
   ]
  },
  {
   "cell_type": "code",
   "execution_count": 5,
   "id": "0b55102e",
   "metadata": {},
   "outputs": [
    {
     "data": {
      "text/plain": [
       "Text(0.5, 257.44, 'Predicted label')"
      ]
     },
     "execution_count": 5,
     "metadata": {},
     "output_type": "execute_result"
    },
    {
     "data": {
      "image/png": "[encoded data removed]",
      "text/plain": [
       "<Figure size 432x288 with 2 Axes>"
      ]
     },
     "metadata": {
      "needs_background": "light"
     },
     "output_type": "display_data"
    }
   ],
   "source": [
    "cnf_matrix = metrics.confusion_matrix(y_test, y_pred)\n",
    "class_names=[0,1] # name  of classes\n",
    "fig, ax = plt.subplots()\n",
    "tick_marks = np.arange(len(class_names))\n",
    "plt.xticks(tick_marks, class_names)\n",
    "plt.yticks(tick_marks, class_names)\n",
    "# create heatmap\n",
    "sns.heatmap(pd.DataFrame(cnf_matrix), annot=True, cmap=\"YlGnBu\" ,fmt='g')\n",
    "ax.xaxis.set_label_position(\"top\")\n",
    "plt.tight_layout()\n",
    "plt.title('Confusion matrix', y=1.1)\n",
    "plt.ylabel('Actual label')\n",
    "plt.xlabel('Predicted label')"
   ]
  },
  {
   "cell_type": "code",
   "execution_count": 30,
   "id": "5cdfa63a",
   "metadata": {},
   "outputs": [
    {
     "name": "stdout",
     "output_type": "stream",
     "text": [
      "Accuracy: 0.8072916666666666\n",
      "Precision: 0.7450980392156863\n",
      "Recall: 0.6129032258064516\n"
     ]
    }
   ],
   "source": [
    "print(\"Accuracy:\",metrics.accuracy_score(y_test, y_pred))\n",
    "print(\"Precision:\",metrics.precision_score(y_test, y_pred, average=\"binary\", pos_label=\"1\"))\n",
    "print(\"Recall:\",metrics.recall_score(y_test, y_pred, average=\"binary\", pos_label=\"1\"))"
   ]
  },
  {
   "cell_type": "markdown",
   "id": "45e0d075",
   "metadata": {},
   "source": [
    "## Vantagens\n",
    "\n",
    "Devido à sua natureza eficiente e direta, não requer alto poder de computação, fácil de implementar, facilmente interpretável, amplamente utilizado por analistas de dados e cientistas. Além disso, não requer dimensionamento de recursos. A regressão logística fornece uma pontuação de probabilidade para observações.\n",
    "\n",
    "## Desvantagens\n",
    "\n",
    "A regressão logística não é capaz de lidar com um grande número de características / variáveis ​​categóricas. É vulnerável a overfitting. Além disso, não consegue resolver o problema não linear com a regressão logística, por isso requer uma transformação de recursos não lineares. A regressão logística não terá um bom desempenho com variáveis independentes que não estão correlacionadas à variável de destino e são muito semelhantes ou correlacionadas entre si."
   ]
  }
 ],
 "metadata": {
  "kernelspec": {
   "display_name": "Python 3",
   "language": "python",
   "name": "python3"
  },
  "language_info": {
   "codemirror_mode": {
    "name": "ipython",
    "version": 3
   },
   "file_extension": ".py",
   "mimetype": "text/x-python",
   "name": "python",
   "nbconvert_exporter": "python",
   "pygments_lexer": "ipython3",
   "version": "3.8.8"
  }
 },
 "nbformat": 4,
 "nbformat_minor": 5
}
