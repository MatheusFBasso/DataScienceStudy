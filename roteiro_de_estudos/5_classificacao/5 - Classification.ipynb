{
 "cells": [
  {
   "cell_type": "markdown",
   "id": "ddfc554f",
   "metadata": {},
   "source": [
    "# 5 - Classification"
   ]
  },
  {
   "cell_type": "markdown",
   "id": "d9a92793",
   "metadata": {},
   "source": [
    "* **O que é?**\n",
    "\n",
    "A classificação é o processo de prever a classe de dados fornecidos. Classes são muitas vezes chamadas de targets/labels ou categorias. A modelagem preditiva é a tarefa de aproximar uma função mapeada (f) de variável de entrada (X) para uma variável de saída discreta (y).\n",
    "\n",
    "Faz parte a categoria de apredizado supervisionado onde os targets também providenciam com os dados de entrada. Têm muitas aplicações em classificação em várias áreas como aprovação de crédit, diagnóstico médico, marketing, etc.\n",
    "\n",
    "* **Os dois tipos de classificação**:\n",
    "\n",
    "    * **Lazy Learners**: simplesmente armazenam os dados de treinamento e aguardam até que os dados de teste apareçam. Quando isso acontece, a classificação é conduzida com base nos dados mais relacionados nos dados de treinamento armazenados. Em comparação com alunos ansiosos, os preguiçosos têm menos tempo de treinamento, mas mais tempo para prever.\n",
    "        * KNN;\n",
    "        * Case-based reasoning;\n",
    "        \n",
    "    * **Eager Learners**: constroem um modelo de classificação com base nos dados de treinamento fornecidos antes de receber os dados para classificação. Ele deve ser capaz de se comprometer com uma única hipótese que cubra todo o espaço da instância. Devido à construção do modelo, os alunos ansiosos levam muito tempo para treinar e menos tempo para prever.\n",
    "        * Decision Tree;\n",
    "        * Naive Bayes;\n",
    "        * Artificial Neural Networks;\n",
    "        \n",
    "* **Algoritmos de Classificação** \n",
    "\n",
    "Existem muitos algoritmos de classificação disponíveis agora, mas não é possível concluir qual deles é superior ao outro. Depende da aplicação e da natureza do conjunto de dados disponível. Por exemplo, se as classes são linearmente separáveis, os classificadores lineares como a regressão logística, o discriminante linear de Fisher pode superar modelos sofisticados e vice-versa.\n",
    "\n",
    "![fig1](https://i.ibb.co/WV3hmWR/decision-tree-drawio.png)"
   ]
  }
 ],
 "metadata": {
  "kernelspec": {
   "display_name": "Python 3",
   "language": "python",
   "name": "python3"
  },
  "language_info": {
   "codemirror_mode": {
    "name": "ipython",
    "version": 3
   },
   "file_extension": ".py",
   "mimetype": "text/x-python",
   "name": "python",
   "nbconvert_exporter": "python",
   "pygments_lexer": "ipython3",
   "version": "3.8.8"
  }
 },
 "nbformat": 4,
 "nbformat_minor": 5
}
