{
 "cells": [
  {
   "cell_type": "markdown",
   "id": "a39107c1-fc3b-4654-9922-21948c51e5a5",
   "metadata": {},
   "source": [
    "# SVM\n",
    "\n",
    "O objetivo do algoritmo da máquina de vetores de suporte é encontrar um hiperplano em um espaço N-dimensional (N - o número de recursos) que classifica distintamente os pontos de dados.\n",
    "\n",
    "![fig_1](https://miro.medium.com/max/600/0*9jEWNXTAao7phK-5.png)\n",
    "\n",
    "![fig_2](https://miro.medium.com/max/600/0*0o8xIA4k3gXUDCFU.png)\n",
    "\n",
    "Para separar as duas classes de pontos de dados, existem muitos hiperplanos possíveis que podem ser escolhidos. Nosso objetivo é encontrar um plano que tenha a margem máxima, ou seja, a distância máxima entre os pontos de dados de ambas as classes. Maximizar a distância da margem fornece algum reforço para que os pontos de dados futuros possam ser classificados com mais confiança."
   ]
  },
  {
   "cell_type": "markdown",
   "id": "190e3cde-4e1c-43ac-9c60-8f8b3fd99a7a",
   "metadata": {},
   "source": [
    "## **Hiperplanos e vetores de suporte**\n",
    "\n",
    "![fig_3](https://miro.medium.com/max/1400/1*ZpkLQf2FNfzfH4HXeMw4MQ.png)\n",
    "\n",
    "Hiperplanos são limites de decisão que ajudam a classificar os pontos de dados. Os pontos de dados que caem em ambos os lados do hiperplano podem ser atribuídos a diferentes classes. Além disso, a dimensão do hiperplano depende do número de recursos. Se o número de recursos de entrada for 2, o hiperplano é apenas uma linha. Se o número de recursos de entrada for 3, o hiperplano se torna um plano bidimensional. Torna-se difícil imaginar quando o número de recursos excede 3.\n",
    "\n",
    "![fig_4](https://miro.medium.com/max/700/0*ecA4Ls8kBYSM5nza.jpg)\n",
    "\n",
    "Os vetores de suporte são pontos de dados que estão mais próximos do hiperplano e influenciam a posição e a orientação do hiperplano. Usando esses vetores de suporte, maximizamos a margem do classificador. A exclusão dos vetores de suporte mudará a posição do hiperplano. Esses são os pontos que nos ajudam a construir nosso SVM.\n",
    "\n",
    "## **Intuição de grande margem**\n",
    "\n",
    "Na regressão logística, pegamos a saída da função linear e comprimimos o valor dentro do intervalo de [0,1] usando a função sigmóide. Se o valor comprimido for maior do que um valor limite (0,5), atribuímos a ele um rótulo 1, caso contrário, atribuímos a ele um rótulo 0. No SVM, pegamos a saída da função linear e se essa saída for maior que 1, identificamos ele com uma classe e se a saída for -1, identificamos que é com outra classe. Uma vez que os valores de limiar são alterados para 1 e -1 em SVM, obtemos esta faixa de valores de reforço ([- 1,1]) que atua como margem.\n",
    "\n",
    "## **Função de custo e atualizações de gradiente**\n",
    "\n",
    "No algoritmo SVM, procuramos maximizar a margem entre os pontos de dados e o hiperplano. A função de perda que ajuda a maximizar a margem é a perda de dobradiça.\n",
    "\n",
    "![fig_5](https://miro.medium.com/max/2080/1*3xErahGeTFnbDiRuNXjAuA.png)\n",
    "\n",
    "O custo é 0 se o valor previsto e o valor real tiverem o mesmo sinal. Se não forem, calculamos o valor da perda. Também adicionamos um parâmetro de regularização à função de custo. O objetivo do parâmetro de regularização é equilibrar a maximização e a perda de margem. Depois de adicionar o parâmetro de regularização, as funções de custo têm a aparência abaixo.\n",
    "\n",
    "![fig_6](https://miro.medium.com/max/1400/1*GQAd28bK8LKOL2kOOFY-tg.png)\n",
    "\n",
    "Agora que temos a função de perda, tomamos as derivadas parciais em relação aos pesos para encontrar os gradientes. Usando os gradientes, podemos atualizar nossos pesos.\n",
    "\n",
    "![fig_7](https://miro.medium.com/max/700/1*WUphtYLfTOAoaXQXvImBeA.png)\n",
    "\n",
    "Quando não há nenhuma classificação incorreta, ou seja, nosso modelo prevê corretamente a classe de nosso ponto de dados, só temos que atualizar o gradiente do parâmetro de regularização.\n",
    "\n",
    "![fig_8](https://miro.medium.com/max/308/1*-nKEXrWos8Iuf-DWSv_srQ.png)\n",
    "\n",
    "Quando há uma classificação incorreta, ou seja, nosso modelo comete um erro na previsão da classe do nosso ponto de dados, incluímos a perda junto com o parâmetro de regularização para realizar a atualização do gradiente.\n",
    "\n",
    "![fig_9](https://miro.medium.com/max/428/1*tnvMhAKaTUCO43diEvtTAQ.png)\n",
    "\n",
    "## Em Python"
   ]
  },
  {
   "cell_type": "code",
   "execution_count": 5,
   "id": "c8bc5e68-9ff2-4fd0-8d57-bc0c5b123aee",
   "metadata": {},
   "outputs": [],
   "source": [
    "import pandas as pd\n",
    "from sklearn import datasets\n",
    "df = pd.read_csv(r'C:\\Users\\mathe\\OneDrive\\Desktop\\roteiro_de_estudos\\5_classificacao\\iris.csv')\n",
    "df = df.drop(['Id'],axis=1)\n",
    "target = df['Species']\n",
    "s = set()\n",
    "for val in target:\n",
    "    s.add(val)\n",
    "s = list(s)\n",
    "rows = list(range(100,150))\n",
    "df = df.drop(df.index[rows])"
   ]
  },
  {
   "cell_type": "code",
   "execution_count": 6,
   "id": "61aeaa10-3ddf-4b31-a1d8-43bdf8ca2233",
   "metadata": {},
   "outputs": [
    {
     "data": {
      "image/png": "[encoded data removed]",
      "text/plain": [
       "<Figure size 576x432 with 1 Axes>"
      ]
     },
     "metadata": {
      "needs_background": "light"
     },
     "output_type": "display_data"
    }
   ],
   "source": [
    "\n",
    "import matplotlib.pyplot as plt\n",
    "\n",
    "x = df['SepalLengthCm']\n",
    "y = df['PetalLengthCm']\n",
    "\n",
    "setosa_x = x[:50]\n",
    "setosa_y = y[:50]\n",
    "\n",
    "versicolor_x = x[50:]\n",
    "versicolor_y = y[50:]\n",
    "\n",
    "plt.figure(figsize=(8,6))\n",
    "plt.scatter(setosa_x,setosa_y,marker='+',color='green')\n",
    "plt.scatter(versicolor_x,versicolor_y,marker='_',color='red')\n",
    "plt.show()"
   ]
  },
  {
   "cell_type": "code",
   "execution_count": 8,
   "id": "5e07bb8c-45e2-4156-a05f-a72d2b0e1a5d",
   "metadata": {},
   "outputs": [],
   "source": [
    "from sklearn.utils import shuffle\n",
    "from sklearn.model_selection import train_test_split\n",
    "import numpy as np\n",
    "## Drop rest of the features and extract the target values\n",
    "df = df.drop(['SepalWidthCm','PetalWidthCm'],axis=1)\n",
    "Y = []\n",
    "target = df['Species']\n",
    "for val in target:\n",
    "    if(val == 'Iris-setosa'):\n",
    "        Y.append(-1)\n",
    "    else:\n",
    "        Y.append(1)\n",
    "df = df.drop(['Species'],axis=1)\n",
    "X = df.values.tolist()\n",
    "## Shuffle and split the data into training and test set\n",
    "X, Y = shuffle(X,Y)\n",
    "x_train = []\n",
    "y_train = []\n",
    "x_test = []\n",
    "y_test = []\n",
    "\n",
    "x_train, x_test, y_train, y_test = train_test_split(X, Y, train_size=0.9)\n",
    "\n",
    "x_train = np.array(x_train)\n",
    "y_train = np.array(y_train)\n",
    "x_test = np.array(x_test)\n",
    "y_test = np.array(y_test)\n",
    "\n",
    "y_train = y_train.reshape(90,1)\n",
    "y_test = y_test.reshape(10,1)"
   ]
  },
  {
   "cell_type": "code",
   "execution_count": 15,
   "id": "6d6168b7-3888-4c59-ab28-6e7a21778f95",
   "metadata": {},
   "outputs": [
    {
     "name": "stdout",
     "output_type": "stream",
     "text": [
      "1.0\n"
     ]
    },
    {
     "name": "stderr",
     "output_type": "stream",
     "text": [
      "C:\\Users\\mathe\\anaconda3\\lib\\site-packages\\sklearn\\utils\\validation.py:63: DataConversionWarning: A column-vector y was passed when a 1d array was expected. Please change the shape of y to (n_samples, ), for example using ravel().\n",
      "  return f(*args, **kwargs)\n"
     ]
    }
   ],
   "source": [
    "from sklearn.svm import SVC\n",
    "from sklearn.metrics import accuracy_score\n",
    "\n",
    "clf = SVC(kernel='linear')\n",
    "clf.fit(x_train,y_train)\n",
    "y_pred = clf.predict(x_test)\n",
    "print(accuracy_score(y_test,y_pred))"
   ]
  }
 ],
 "metadata": {
  "kernelspec": {
   "display_name": "Python 3 (ipykernel)",
   "language": "python",
   "name": "python3"
  },
  "language_info": {
   "codemirror_mode": {
    "name": "ipython",
    "version": 3
   },
   "file_extension": ".py",
   "mimetype": "text/x-python",
   "name": "python",
   "nbconvert_exporter": "python",
   "pygments_lexer": "ipython3",
   "version": "3.8.11"
  }
 },
 "nbformat": 4,
 "nbformat_minor": 5
}
