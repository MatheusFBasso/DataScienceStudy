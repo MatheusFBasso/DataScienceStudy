{
 "cells": [
  {
   "cell_type": "markdown",
   "id": "96fbe644",
   "metadata": {},
   "source": [
    "# 6.2 - L1 e L2\n",
    "\n",
    "Para criar um modelo menos complexo (parcimonioso) quando você tem um grande número de recursos em seu conjunto de dados, algumas das técnicas de regularização usadas para lidar com o sobreajuste e seleção de recursos são:\n",
    "\n",
    "1. **Regularização L1**: adiciona uma penalidade L1 que é igual ao valor absoluto da magnitude do coeficiente ou simplesmente restringe o tamanho dos coeficientes. Por exemplo, a regressão Lasso implementa este método.\n",
    "\n",
    "2. **Regularização L2**: adiciona uma penalidade L2 que é igual ao quadrado da magnitude dos coeficientes. Por exemplo, a regressão Ridge e o SVM implementam este método."
   ]
  },
  {
   "cell_type": "markdown",
   "id": "dca03c91",
   "metadata": {},
   "source": [
    "## L1\n",
    "\n",
    "É uma forma de seleção de recurso, porque quando atribuímos um recurso com peso 0, estamos multiplicando os valores do recurso por 0, que retorna 0, erradicando a importância desse recurso. Se os recursos de entrada de nosso modelo tivessem pesos próximos a 0, nossa norma L1 seria esparsa. Uma seleção dos recursos de entrada teria pesos iguais a zero e o resto seria diferente de zero.\n",
    "\n",
    "Essencialmente, quando usamos a regularização L1, estamos penalizando o valor absoluto dos pesos.\n",
    "\n",
    "Em ambientes do mundo real, geralmente temos recursos altamente correlacionados. Por exemplo, o ano em que nossa casa foi construída e o número de cômodos da casa podem ter uma alta correlação. Algo a se considerar ao usar a regularização L1 é que quando temos recursos altamente correlacionados, a norma L1 selecionaria apenas 1 dos recursos do grupo de recursos correlacionados de forma arbitrária, o que é algo que podemos não querer.\n",
    "\n",
    "No entanto, para nosso problema de regressão de exemplo, a regressão Lasso (regressão linear com regularização L1) produziria um modelo que é altamente interpretável e usa apenas um subconjunto de recursos de entrada, reduzindo assim a complexidade do modelo.\n",
    "\n",
    "### Python"
   ]
  },
  {
   "cell_type": "code",
   "execution_count": 2,
   "id": "8cf02248",
   "metadata": {},
   "outputs": [
    {
     "name": "stdout",
     "output_type": "stream",
     "text": [
      "Mean Squared Error: 34.709124595627884\n",
      "Model Coefficients: [0.]\n",
      "\n"
     ]
    },
    {
     "data": {
      "image/png": "[encoded data removed]",
      "text/plain": [
       "<Figure size 432x288 with 1 Axes>"
      ]
     },
     "metadata": {
      "needs_background": "light"
     },
     "output_type": "display_data"
    }
   ],
   "source": [
    "import warnings\n",
    "warnings.filterwarnings(\"ignore\")\n",
    " \n",
    "import numpy as np \n",
    "import pandas as pd\n",
    "import seaborn as sns\n",
    "import matplotlib.pyplot as plt\n",
    "from sklearn.preprocessing import PolynomialFeatures\n",
    "from sklearn.linear_model import LinearRegression, Lasso, Ridge\n",
    "from sklearn.metrics import mean_squared_error\n",
    " \n",
    "# Loading data\n",
    "URL = \"https://raw.githubusercontent.com/jbrownlee/Datasets/master/housing.csv\"\n",
    "df = pd.read_csv(URL, header=None)\n",
    " \n",
    "# selecting a single feature\n",
    "# using 100 instances for simplicity\n",
    "X = df.loc[:100, 5]\n",
    "y = df.loc[:100, 13] # target label \n",
    " \n",
    "# reshaping the data \n",
    "X_reshaped = X[:, np.newaxis]\n",
    "y_reshaped = y[:, np.newaxis]\n",
    " \n",
    "# instantiating the lasso regression model\n",
    "lasso = Lasso(alpha=10)\n",
    " \n",
    "# training the model\n",
    "lasso.fit(X_reshaped, y_reshaped)\n",
    " \n",
    "# making predictions \n",
    "y_pred = lasso.predict(X_reshaped)\n",
    " \n",
    "# evaluating the model\n",
    "mse = mean_squared_error(y_reshaped, y_pred)\n",
    "print(f\"Mean Squared Error: {mse}\")\n",
    "print(f\"Model Coefficients: {lasso.coef_}\\n\")\n",
    " \n",
    "# plotting the line of best fit\n",
    "sns.scatterplot(X,y)\n",
    "plt.plot(X_reshaped, y_pred, color=\"red\")\n",
    "plt.title(\"Linear Regression Model with L1 Regularization (Lasso)\")\n",
    "plt.show() "
   ]
  },
  {
   "cell_type": "markdown",
   "id": "a4feaf34",
   "metadata": {},
   "source": [
    "## L2\n",
    "\n",
    "A regularização L2, ou a norma L2, ou Ridge (em problemas de regressão), combate o sobreajuste forçando os pesos a serem pequenos, mas não tornando-os exatamente 0.\n",
    "\n",
    "Portanto, se estamos prevendo os preços das casas novamente, isso significa que os recursos menos significativos para prever o preço da casa ainda teriam alguma influência sobre a previsão final, mas seria apenas uma pequena influência.\n",
    "\n",
    "O termo de regularização que adicionamos à função de perda ao realizar a regularização L2 é a soma dos quadrados de todos os pesos dos recursos:\n",
    "\n",
    "$$LossFunction=\\frac{1}{N}\\sum^{N}_{i=1}(\\hat{Y}-Y)^2+\\lambda \\sum^{N}_{i=1}θ^2_i$$\n",
    "\n",
    "Portanto, a regularização L2 retorna uma solução não esparsa, pois os pesos serão diferentes de zero (embora alguns possam estar próximos de 0).\n",
    "\n",
    "Um grande obstáculo a considerar ao usar a regularização L2 é que ela não é robusta para outliers. Os termos quadrados explodirão as diferenças no erro dos outliers. A regularização tentaria corrigir isso penalizando os pesos.\n",
    "\n",
    "### Python"
   ]
  },
  {
   "cell_type": "code",
   "execution_count": 3,
   "id": "055a9194",
   "metadata": {},
   "outputs": [
    {
     "name": "stdout",
     "output_type": "stream",
     "text": [
      "Mean Squared Error: 25.96309109305436\n",
      "Model Coefficients: [[1.98542524]]\n",
      "\n"
     ]
    },
    {
     "data": {
      "image/png": "[encoded data removed]",
      "text/plain": [
       "<Figure size 432x288 with 1 Axes>"
      ]
     },
     "metadata": {
      "needs_background": "light"
     },
     "output_type": "display_data"
    }
   ],
   "source": [
    "ridge = Ridge(alpha=100)\n",
    "ridge.fit(X_reshaped, y_reshaped)\n",
    "y_pred = ridge.predict(X_reshaped)\n",
    " \n",
    "mse = mean_squared_error(y_reshaped, y_pred)\n",
    "print(f\"Mean Squared Error: {mse}\")\n",
    "print(f\"Model Coefficients: {ridge.coef_}\\n\")\n",
    " \n",
    "sns.scatterplot(X,y)\n",
    "plt.plot(X_reshaped, y_pred, color=\"red\")\n",
    "plt.title(\"Linear Regression Model with L2 Regularization (Ridge)\")\n",
    "plt.show() \n"
   ]
  },
  {
   "cell_type": "markdown",
   "id": "147114cc",
   "metadata": {},
   "source": [
    "As diferenças entre a regularização L1 e L2:\n",
    "* A regularização L1 penaliza a soma dos valores absolutos dos pesos, enquanto a regularização L2 penaliza a soma dos quadrados dos pesos.\n",
    "* A solução de regularização L1 é esparsa. A solução de regularização L2 não é esparsa.\n",
    "* A regularização L2 não realiza a seleção de recursos, uma vez que os pesos são reduzidos apenas para valores próximos a 0 em vez de 0. A regularização L1 tem seleção de recursos embutida.\n",
    "* A regularização L1 é robusta para outliers, a regularização L2 não."
   ]
  }
 ],
 "metadata": {
  "kernelspec": {
   "display_name": "Python 3",
   "language": "python",
   "name": "python3"
  },
  "language_info": {
   "codemirror_mode": {
    "name": "ipython",
    "version": 3
   },
   "file_extension": ".py",
   "mimetype": "text/x-python",
   "name": "python",
   "nbconvert_exporter": "python",
   "pygments_lexer": "ipython3",
   "version": "3.8.8"
  }
 },
 "nbformat": 4,
 "nbformat_minor": 5
}
