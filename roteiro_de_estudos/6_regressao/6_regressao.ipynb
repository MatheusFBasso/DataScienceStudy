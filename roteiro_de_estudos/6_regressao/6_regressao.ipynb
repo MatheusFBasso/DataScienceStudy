{
 "cells": [
  {
   "cell_type": "markdown",
   "id": "d0ce66b1",
   "metadata": {},
   "source": [
    "# 6 Regressão\n",
    "\n",
    "A análise de regressão é uma forma de técnica de modelagem preditiva que investiga a relação entre uma variável dependente (alvo) e uma variável independente (preditor). Esta técnica é usada para previsões, modelagem de séries temporais e encontrar a relação de efeito causal entre as variáveis. Por exemplo, a relação entre direção precipitada e o número de acidentes rodoviários cometidos por um motorista é mais bem estudada por meio de regressão.\n",
    "\n",
    "Existem vários benefícios de usar a análise de regressão. Eles são os seguintes:\n",
    "\n",
    "* Ele indica as relações significativas entre a variável dependente e a variável independente.\n",
    "* Ele indica a força do impacto de várias variáveis independentes em uma variável dependente.\n",
    "\n",
    "A análise de regressão também nos permite comparar os efeitos das variáveis medidas em diferentes escalas, como o efeito das variações de preços e o número de atividades promocionais. Esses benefícios ajudam os pesquisadores de mercado / analistas de dados / cientistas de dados a eliminar e avaliar o melhor conjunto de variáveis a ser usado para construir modelos preditivos.\n",
    "\n",
    "Existem vários tipos de técnicas de regressão disponíveis para fazer previsões. Essas técnicas são principalmente orientadas por três métricas (número de variáveis independentes, tipo de variáveis dependentes e forma da linha de regressão). Vamos discuti-los em detalhes nas seções a seguir.\n",
    "\n",
    "![fig_1](https://www.analyticsvidhya.com/wp-content/uploads/2015/08/Regression_Type.png)\n",
    "\n"
   ]
  }
 ],
 "metadata": {
  "kernelspec": {
   "display_name": "Python 3",
   "language": "python",
   "name": "python3"
  },
  "language_info": {
   "codemirror_mode": {
    "name": "ipython",
    "version": 3
   },
   "file_extension": ".py",
   "mimetype": "text/x-python",
   "name": "python",
   "nbconvert_exporter": "python",
   "pygments_lexer": "ipython3",
   "version": "3.8.8"
  }
 },
 "nbformat": 4,
 "nbformat_minor": 5
}
