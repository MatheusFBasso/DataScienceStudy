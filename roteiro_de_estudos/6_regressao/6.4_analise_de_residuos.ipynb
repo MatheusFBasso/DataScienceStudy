{
 "cells": [
  {
   "cell_type": "markdown",
   "id": "211ac3ff",
   "metadata": {},
   "source": [
    "# 6.4 - Análise de Resíduos\n",
    "\n",
    "Um resíduo é uma medida de quão longe um ponto está verticalmente da linha de regressão. Simplesmente, é o erro entre um valor previsto e o valor real observado.\n",
    "\n",
    "$$Resíduo\\ (\\in)=y-\\hat{y}$$\n",
    "\n",
    "## Gráfico Residual\n",
    "\n",
    "Um gráfico residual típico tem os valores residuais no eixo Y e a variável independente no eixo x. A Figura 2 abaixo é um bom exemplo de como um gráfico residual típico se parece.\n",
    "\n",
    "![fig_1](https://miro.medium.com/max/404/1*rtuiEMWO4o38QZoI6zKP4Q.png)\n",
    "\n",
    "Análise de plotagem residual\n",
    "\n",
    "A suposição mais importante de um modelo de regressão linear é que os erros são independentes e normalmente distribuídos.\n",
    "\n",
    "Vamos examinar o que essa suposição significa.\n",
    "\n",
    "Todo modelo de regressão tem inerentemente algum grau de erro, já que você nunca pode prever algo com 100% de precisão. Mais importante ainda, a aleatoriedade e a imprevisibilidade sempre fazem parte do modelo de regressão. Portanto, um modelo de regressão pode ser explicado como:\n",
    "\n",
    "$$Resposta=Determinístico + Escocástico$$\n",
    "\n",
    "A parte determinística do modelo é o que tentamos capturar usando o modelo de regressão. Idealmente, nosso modelo de equação linear deve capturar com precisão as informações preditivas. Essencialmente, o que isso significa é que, se capturarmos todas as informações preditivas, tudo o que for deixado para trás (resíduos) deve ser completamente aleatório e imprevisível, ou seja, estocástico. Portanto, queremos que nossos resíduos sigam uma distribuição normal. E é exatamente isso que procuramos em um gráfico residual.\n",
    "\n",
    "### Características de um bom gráfico residual\n",
    "\n",
    "Algumas características de um bom gráfico residual são as seguintes:\n",
    "* Possui alta densidade de pontos próximos à origem e baixa densidade de pontos distantes da origem\n",
    "* É simétrico quanto à origem\n",
    "\n",
    "Para explicar por que a imagem acima é um bom gráfico residual, com base nas características acima, projetamos todos os resíduos no eixo y. Como visto nafigura abaixo, terminamos com uma curva normalmente distribuída; satisfazendo o pressuposto da normalidade dos resíduos.\n",
    "\n",
    "![fig_2](https://miro.medium.com/max/330/1*-BwXVW9WMmVUY4NYmNFCag.png)\n",
    "\n",
    "![fig_3](https://miro.medium.com/max/430/1*40E7lY7o39jddXBKQypeTA.png)"
   ]
  },
  {
   "cell_type": "markdown",
   "id": "3497ecbe",
   "metadata": {},
   "source": [
    "Finalmente, uma outra razão pela qual este é um bom gráfico residual é que, independente do valor de uma variável independente (eixo x), os erros residuais são aproximadamente distribuídos da mesma maneira. Em outras palavras, não vemos nenhum padrão no valor dos resíduos à medida que nos movemos ao longo do eixo x.\n",
    "Conseqüentemente, isso satisfaz nossa suposição anterior de que os resíduos do modelo de regressão são independentes e normalmente distribuídos."
   ]
  },
  {
   "cell_type": "markdown",
   "id": "105bab8e",
   "metadata": {},
   "source": [
    "### Características de um gráfico residual ruim\n",
    "\n",
    "Usando as características descritas acima, podemos ver porque a Figura 4 é um gráfico residual ruim. Esta parcela possui alta densidade longe da origem e baixa densidade próxima à origem. Além disso, quando projetamos os resíduos no eixo y, podemos ver que a curva de distribuição não é normal.\n",
    "\n",
    "![fig_4](https://miro.medium.com/max/338/1*8X4bEu5Xc4ehA27j_4vhew.png)\n",
    "\n",
    "![fig_5](https://miro.medium.com/max/401/1*IyUclnw1S9uT_t8gHhH7BA.png)\n",
    "\n",
    "É importante entender aqui que esses gráficos significam que não capturamos completamente as informações preditivas dos dados em nosso modelo, e é por isso que estão “infiltrando-se” em nossos resíduos. Um bom modelo deve sempre ter apenas erros aleatórios restantes após usar as informações preditivas"
   ]
  }
 ],
 "metadata": {
  "kernelspec": {
   "display_name": "Python 3",
   "language": "python",
   "name": "python3"
  },
  "language_info": {
   "codemirror_mode": {
    "name": "ipython",
    "version": 3
   },
   "file_extension": ".py",
   "mimetype": "text/x-python",
   "name": "python",
   "nbconvert_exporter": "python",
   "pygments_lexer": "ipython3",
   "version": "3.8.8"
  }
 },
 "nbformat": 4,
 "nbformat_minor": 5
}
