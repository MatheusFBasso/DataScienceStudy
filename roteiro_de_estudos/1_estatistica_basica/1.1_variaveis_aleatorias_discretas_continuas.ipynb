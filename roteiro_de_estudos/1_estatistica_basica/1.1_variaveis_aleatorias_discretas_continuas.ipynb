{
 "cells": [
  {
   "cell_type": "markdown",
   "id": "ddeb79c1-e3f7-44c7-ac75-8ec1286f5747",
   "metadata": {},
   "source": [
    "# Variáveis Aleatórias Contínuas e Discretas\n",
    "---\n",
    "## Teórico:\n",
    "\n",
    "* **Definição** : uma variável aleatória é uma variável quantitativa (pode ser mensurada numericamente), onde o resultado e/ou valor depende de fatores aleatórios. Um exemplo pode ser um dado, apesar de sabermos os possíveis resultados (1 a 6) não conseguimos dizer qual será o resultado em sí uma vez que o lançamos, podemos apenas dizer a probabilidade de um número sair, mas não qual número irá ser após o jogarmos. Ou seja, variáveis aleatórias em estatítica são definidas como fenômenos incertos e são a base para estudos futuros. Essas variáveis podem ser divididas em: \n",
    "    * Variáveis Discretas: é o valor dentro de um conjunto enumerável de pontos, ou seja, um valor definido dentro de um conjunto informado. \n",
    "    * Variáveis Contínuas: é o valor dentro de um conjunto de números reais, ou seja, um valor qualquer dentro de um conjunto informado.\n",
    "    * Variáveis Mistas: é a junção das variáveis discretas e contínuas, ou seja, quando usamos as duas em dada situação e assim obtendo um mista.\n",
    "\n",
    "* **Fórmula**:<p>$ X:\\Omega \\rightarrow \\mathbb{R} \\Leftrightarrow \\{\\omega : X(\\omega) \\leq x\\} \\in \\sigma-álgebra, \\forall x \\in \\mathbb{R}$</p><p>A função **X** de $\\Omega$ em $\\mathsf{\\mathbb{R}}$ será uma variável aleatória (ou uma função mensurável) se e somente se, para todo valor **$x$**$\\in \\mathbb{R}$, o conjunto de elementos $\\omega$, tais que o valor de função **X** nos elementos **$X(\\omega)$** seja menor ou igual a **$x$**, pertencer ao $\\sigma-álgebra$</p>"
   ]
  },
  {
   "cell_type": "markdown",
   "id": "3b287867-5788-4f27-ad5e-0fadeeb4999f",
   "metadata": {},
   "source": [
    "# Prática:\n",
    "* Exemplos com python: os exemplos serão realizados na variáveis discretas e contínuas\n",
    "---\n",
    "* Discretas: vamos analisar o jogo de dois dados de 6 lados (1 a 6) e análisar qual o número (soma dois dois valores dos dados após jogados) que possui a maior chance de cair. Primeiramente vamos analisar essa chance e depois realizar o teste em python.\n",
    "    * Análise: vamos considerar dois dados $n_1$ e $n_2$ de {1, 2, 3, 4, 5, 6} como o espaço amostral e o número total de lançamentos (a soma dos números de cada conjunto) como a variável aleatória **$X$** dada pela função que mapeia o conjunto a soma **$X((n_1, n_2)) = n_1 + n_2$** e tem a função massa de probabilidade **$fx$** dada por $$fx(x)=\\frac{min(x-1, 13-x)}{36}, para x \\in \\{ 2, 3, 4, 5, 6, 7, 8, 9, 10, 11, 12\\}.$$Portanto de analisarmos os lançamentos podemos notar que o número 7 é o que terá a maior probabilidade de se obter, como a imagem abaixo ilustra:<p>![img]( https://upload.wikimedia.org/wikipedia/commons/thumb/1/12/Dice_Distribution_%28bar%29.svg/220px-Dice_Distribution_%28bar%29.svg.png)</p>\n",
    "    * Agora utilizando a biblioteca <code>random</code> do python vamos criar um algoritmo que simule o jogo de dois dados e armazene os resultados para verificarmos qual o resultado que mais saiu:"
   ]
  },
  {
   "cell_type": "code",
   "execution_count": 33,
   "id": "4e2a1c41-4c15-4763-a8a4-0692975f7ebf",
   "metadata": {
    "tags": []
   },
   "outputs": [
    {
     "data": {
      "image/png": "[encoded data removed]",
      "text/plain": [
       "<Figure size 400x500 with 1 Axes>"
      ]
     },
     "metadata": {},
     "output_type": "display_data"
    }
   ],
   "source": [
    "import random\n",
    "import pandas as pd\n",
    "import numpy as np\n",
    "import matplotlib.pyplot as plt\n",
    "\n",
    "def dado(n):\n",
    "    \"\"\"Jogar dois dados\n",
    "    __________\n",
    "    Parametros:\n",
    "    :param n: int, número de jogadas\n",
    "    __________\n",
    "    Retorna: rodadas, uma lista do valor da jogada iterado sobre o número n de jogadas\n",
    "    \"\"\"\n",
    "    rodadas = []\n",
    "    for i in range(n):\n",
    "        dois_dados = random.randint(1, 6) + random.randint(1, 6)\n",
    "        rodadas.append(dois_dados)\n",
    "    return rodadas\n",
    "# Criando um df para armazenar as jogadas usando a função value_counts() para somar quantas vezes cada número saiu e nomeando a coluna como P(s)\n",
    "df = pd.DataFrame(pd.DataFrame(dado(1000000)).value_counts(), columns = ['$P_{(S)}$'])\n",
    "\n",
    "# Formatando o df para criar duas colunas uma sendo o número que saiu S e outra a quantia de vezes que o número apareceu P(s)\n",
    "df = df.reset_index().rename(columns = {0:'S'})\n",
    "\n",
    "#Organizando a tabela para plotar\n",
    "df.sort_values('S').plot(x = 'S', y = '$P_{(S)}$', kind = 'bar', figsize = (4, 5), color = \"teal\", edgecolor = 'white', width = 1)\n",
    "plt.yticks([])\n",
    "plt.xlabel('')\n",
    "plt.xticks(rotation=0)\n",
    "plt.show()"
   ]
  },
  {
   "cell_type": "markdown",
   "id": "7de116b8-64be-4809-baa8-fd571c940e6c",
   "metadata": {},
   "source": [
    "* Podemos notar que a regra se aplica, pois rodamos o algoritmo **Um milhão de vezes** e podemos notar que o número 7 foi o que mais apareceu\n",
    "---\n",
    "## Contínuas: um pouco mais difícil para demostrar como a discreta, por ser um pouco mais matemático e menos visual.\n",
    "* Entretanto dentro das aplicações financeiras são as que usamos para sua classificação, pois em uma aplicação financeira tempos um intervalo definido como vimos acima no caso dos dados, contudo não podemos determinar o valor simplesmente como sendo pertencentes ao conjunto [2, 3, 4, 5, 6, 7, 8, 9, 10, 11, 12] como demostrado acima, pois no mercado financeiro a quantia de valores pode ser considerado infinito dentro de um intervalo, pois temos uma grande variedade de variáveis sobre ele. Outro exemplo seria o de definir o peso de um homem adulto, podemos considerar um intervalor de **30Kg** até **200Kg**, somente para critério de exemplificação, e quando pesamos o homem verificamos que ele tem **83.5Kg**, entretanto se usarmos uma balança com uma precisão ainda maior verificamos que seu peso é de **83.500001Kg**, portanto se seguirmos essa lógica o seu pesso pode ainda ser diferente se utilizarmos uma balança cada vez mais precisa, e isso é definido como uma variável aleatória contínua.\n",
    "\n"
   ]
  }
 ],
 "metadata": {
  "kernelspec": {
   "display_name": "Python 3",
   "language": "python",
   "name": "python3"
  },
  "language_info": {
   "codemirror_mode": {
    "name": "ipython",
    "version": 3
   },
   "file_extension": ".py",
   "mimetype": "text/x-python",
   "name": "python",
   "nbconvert_exporter": "python",
   "pygments_lexer": "ipython3",
   "version": "3.8.8"
  }
 },
 "nbformat": 4,
 "nbformat_minor": 5
}
