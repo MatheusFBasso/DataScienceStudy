{
 "cells": [
  {
   "cell_type": "markdown",
   "id": "1d78ed1c-ece6-40c6-85fb-cc10c39d7931",
   "metadata": {},
   "source": [
    "# Testes de Hipósteses\n",
    "---\n",
    "\n",
    "## Teoria:\n",
    "---\n",
    "  É uma metodologia estatística que nos auxilia a tomar decisões sobre uma ou mais populações baseado na informação obtida da amostra.\n",
    "Nos permite verificar se os dados amostrais trazem evidências que apoiem ou não uma hipótese estatística formulada.\n",
    "Ao tentarmos tomar decisões, é conveniente a formulação de suposições ou de conjecturas sobre as populações de interesse, que, em geral, consistem em **considerações sobre parâmetros** ($\\mu , \\sigma^2, p$) das mesmas. Essas suposições, que podem ser ou não verdadeiras, são denominadas de **Hipóteses Estatísticas**. Em muitas situações práticas o interesse do pesquisador é verificar a veracidade sobre um ou mais parâmetros populacionais ($\\mu , \\sigma^2, p$) ou sobre a distribuição de uma variável aleatória.\n",
    "\n",
    "### Objetivo:\n",
    "---\n",
    "* O objetivo de um teste estatístico de hipóteses é fornecer ferramentas que nos permitam aceitar ou rejeitar uma hipótese estatística através dos resultados de uma amostra.\n",
    "\n",
    "### Conceitos fundamentais:\n",
    "---\n",
    "* Hipótese nula ($H_0$): é a hipótese assumida com verdadeira para a contstrução do teste. É a teoria, o efeito ou a alternativa que se está interessado em testar\n",
    "* Hipótese alternativa ($H_1$): é considerada quando a hipótese nula não tem evidência estatística.\n",
    "* Erro do tipo I ($\\alpha$): é a probabilidade de se rejeitar a hipótese nula quando ela é verdadeira.\n",
    "* Erro do tipo II: é a probabilidade de se rejeitar a hipótese alternativa quando ela é verdadeira.\n",
    "\n",
    "<table>\n",
    "  <thead>\n",
    "    <tr>\n",
    "      <th></th>\n",
    "      <th>Hipótese nula $H_0$ é verdadeira</th>\n",
    "      <th>Hipótese nula $H_0$ é falsa</th>  \n",
    "    </tr>\n",
    "  </thead>\n",
    "  <tbody>\n",
    "    <tr>\n",
    "      <td>Hipótese nula $H_0$ é rejeitada</td>\n",
    "      <td>Erro do tipo I</td>\n",
    "      <td>Não há erro</td>  \n",
    "    </tr>\n",
    "    <tr>\n",
    "      <td>Hipótese nula $H_0$ não é rejeitada</td>\n",
    "      <td>Não há erro</td>\n",
    "      <td>Erro do tipo II</td>  \n",
    "    </tr>\n",
    "  </tbody>\n",
    "</table>\n",
    "\n",
    "* **Erro do tipo I**: consiste em, num teste de hipóteses, rejeitar a hipótese nula quando ela é veradeira e absoluta.\n",
    "* **Erro do tipo II**: é o erro que ocorre quando a análise estatística dos dados não consegue rejeitar uma hipótese, no caso desta hipótese ser falsa.\n",
    "### Definição 1:\n",
    "---\n",
    "* **Teste de hipótese**: um teste de hipótese estatística é uma regra ou procedimento para decidir se rejeitamos ou não $H_0$.\n",
    "### Definição 2:\n",
    "---\n",
    "* **Região Crítica**: é o conjunto de valores com os quais rejeitamos $H_0$. Notação RC.\n",
    "\n",
    "### Definição 3.\n",
    "---\n",
    "* **Nível de Significância**: o nível de significância de um teste é definido como $\\alpha = P(Erro \\ \\ tipo\\ \\  I) = P(Rejeitar \\ \\ H_0 \\ \\ dado \\ \\ que \\ \\ H_0  \\ \\ é \\ \\  Verdadeiro)$"
   ]
  },
  {
   "cell_type": "markdown",
   "id": "84b5d8de-5ab3-42aa-8bb4-0d0dd66e57c1",
   "metadata": {},
   "source": [
    "## Permutação: \n",
    "* pode ser explicada como alocar n elementos em n espaços e contrar todas as sequências possíveis que podem ser formadas. Em python é realizada reordenação aleatória das entradas em um array.\n",
    "\n",
    "<code> np.random.permutation(df) </code>\n",
    "\n",
    "![permutation](https://upload.wikimedia.org/wikipedia/commons/thumb/e/e0/Symmetric_group_3%3B_Cayley_table%3B_matrices.svg/1024px-Symmetric_group_3%3B_Cayley_table%3B_matrices.svg.png)\n",
    "\n",
    "<p>Utiliza-se permutação para reordenar os elementos, assim testando a aplicabilidade da teoria, pois com os elementos reorganizados de forma aleatória é possível verificar se o conceito continua obtendo os mesmos resultados.</p>"
   ]
  },
  {
   "cell_type": "markdown",
   "id": "d009a495-8468-46c6-a13c-2f007e03dfaa",
   "metadata": {},
   "source": [
    "## Valor-p:\n",
    "* A probabilidade de obter um valor do seu teste estatístico que seja ao menos extremo ao que foi observado, sob a suposição que $H_0$ é verdadeira.\n",
    "\n",
    "![p-value](https://d2h0cx97tjks2p.cloudfront.net/blogs/wp-content/uploads/sites/2/2018/07/pvalue.png)"
   ]
  },
  {
   "cell_type": "markdown",
   "id": "e38831ec-8c86-4e01-befc-023eed45ab2b",
   "metadata": {},
   "source": [
    "* **Enganos comuns sobre o valor-p**\n",
    "    * o valor-p não é a probabilidade de a hipótese nula de um teste ser verdadeira.\n",
    "    * o valor-p não é a probabilidade de um dado resultado ter sido obtido de um \"acaso\".\n",
    "    * o valor-p não é a probabilidade de a hipótese nula ter sido enganosamente rejeitada.\n",
    "    * a magnitude do valor-p não indica o tamanho ou a importância de um efeito observado. Por exemplo, em uma pesquisa clínica onde são comparados dois tratamentos, um valor-p bastante pequeno não é um indicador de que existe uma grande diferença entre os efeitos dos tratamentos comparados.\n",
    "    * valor-p e nível de significância não são sinônimos. O valor-p é sempre obtido de uma amostra, enquanto o nível de significância é geralmente fixado antes da coleta dos dados.\n",
    "    \n",
    "<p>A significância estatística é determinada pela pequenez de um valor-p</p>    \n",
    "\n",
    "* **Python**:\n",
    "     * 01 - definir replicas de permutação:"
   ]
  },
  {
   "cell_type": "code",
   "execution_count": 6,
   "id": "555b3f1c-9eca-42a7-9ddc-28dc9cba0276",
   "metadata": {},
   "outputs": [],
   "source": [
    "def permutation_sample(data1, data2):\n",
    "    \"\"\"Generate a permutation sample from two data sets.\"\"\"\n",
    "\n",
    "    # Concatenate the data sets: data\n",
    "    data = np.concatenate((data1, data2))\n",
    "\n",
    "    # Permute the concatenated array: permuted_data\n",
    "    permuted_data = np.random.permutation(data)\n",
    "\n",
    "    # Split the permuted array into two: perm_sample_1, perm_sample_2\n",
    "    perm_sample_1 = permuted_data[:len(data1)]\n",
    "    perm_sample_2 = permuted_data[len(data1):]\n",
    "\n",
    "    return perm_sample_1, perm_sample_2\n",
    "\n",
    "def draw_perm_reps(data_1, data_2, func, size=1):\n",
    "    \"\"\"Generate multiple permutation replicates.\"\"\"\n",
    "\n",
    "    # Initialize array of replicates: perm_replicates\n",
    "    perm_replicates = np.empty(size)\n",
    "\n",
    "    for i in range(size):\n",
    "        # Generate permutation sample\n",
    "        perm_sample_1, perm_sample_2 = permutation_sample(data_1, data_2)\n",
    "\n",
    "        # Compute the test statistic\n",
    "        perm_replicates[i] = func(perm_sample_1, perm_sample_2)\n",
    "\n",
    "    return perm_replicates"
   ]
  },
  {
   "cell_type": "markdown",
   "id": "8e5ef9cd-e641-47e0-92e7-77132329d364",
   "metadata": {},
   "source": [
    "* \n",
    "    * 02 - Diferença entre as médias"
   ]
  },
  {
   "cell_type": "code",
   "execution_count": 3,
   "id": "4ed2f3b2-b3dd-465b-b94d-3d45daa0e361",
   "metadata": {},
   "outputs": [],
   "source": [
    "def diff_of_means(data_1, data_2):\n",
    "    \"\"\"Difference in means of two arrays.\"\"\"\n",
    "\n",
    "    # The difference of means of data_1, data_2: diff\n",
    "    diff = np.mean(data_1) - np.mean(data_2)\n",
    "\n",
    "    return diff"
   ]
  },
  {
   "cell_type": "markdown",
   "id": "ea62c5ca-65ca-4ee6-8ddf-a3a3e50e2b77",
   "metadata": {},
   "source": [
    "* \n",
    "    * Computar a diferença da média (diferença empírica entre médias)\n",
    "    \n",
    "    <code> empirical_diff_means = diff_of_means(array_1, array_2) <code>\n",
    "    \n",
    "    * Como definimos em <code>draw_perm_reps</code> podemos gerar com um tamanho determinado para podermos realizar o valor-p futuramente. <p><code>perm_replicates = draw_perm_reps(force_a, force_b, diff_of_means, size=10000)</code></p>\n",
    "    \n",
    "    * Computar valor-p:\n",
    "    <code>p = np.sum(perm_replicates >= empurical_diff_means) / len(perm_replicates)</code>"
   ]
  },
  {
   "cell_type": "code",
   "execution_count": 12,
   "id": "05ceac3a-ebf9-498b-b5e3-9ea685058240",
   "metadata": {},
   "outputs": [
    {
     "name": "stdout",
     "output_type": "stream",
     "text": [
      "p-value = 0.0071\n"
     ]
    }
   ],
   "source": [
    "force_a = [1.612, 0.605, 0.327, 0.946, 0.541, 1.539, 0.529, 0.628, 1.453,\n",
    "       0.297, 0.703, 0.269, 0.751, 0.245, 1.182, 0.515, 0.435, 0.383,\n",
    "       0.457, 0.73 ]\n",
    "\n",
    "force_b = [0.172, 0.142, 0.037, 0.453, 0.355, 0.022, 0.502, 0.273, 0.72 ,\n",
    "       0.582, 0.198, 0.198, 0.597, 0.516, 0.815, 0.402, 0.605, 0.711,\n",
    "       0.614, 0.468]\n",
    "\n",
    "empirical_diff_means = diff_of_means(force_a, force_b)\n",
    "\n",
    "# Draw 10,000 permutation replicates: perm_replicates\n",
    "perm_replicates = draw_perm_reps(force_a, force_b,\n",
    "                                 diff_of_means, size=10000)\n",
    "\n",
    "# Compute p-value: p\n",
    "p = np.sum(perm_replicates >= empirical_diff_means) / len(perm_replicates)\n",
    "\n",
    "# Print the result\n",
    "print('p-value =', p)"
   ]
  },
  {
   "cell_type": "markdown",
   "id": "3ef09e4e",
   "metadata": {},
   "source": [
    "## Conclusão\n",
    "* O teste de hipósteses nos ajuda a validar uma teoria em cima de conjunto de dados, verificando sua aplicabilidade. No caso do mercado financeiro podemos usá-la para validar uma teoria, vendo como ela se comporta dentro da amostra."
   ]
  }
 ],
 "metadata": {
  "kernelspec": {
   "display_name": "Python 3",
   "language": "python",
   "name": "python3"
  },
  "language_info": {
   "codemirror_mode": {
    "name": "ipython",
    "version": 3
   },
   "file_extension": ".py",
   "mimetype": "text/x-python",
   "name": "python",
   "nbconvert_exporter": "python",
   "pygments_lexer": "ipython3",
   "version": "3.8.8"
  }
 },
 "nbformat": 4,
 "nbformat_minor": 5
}
