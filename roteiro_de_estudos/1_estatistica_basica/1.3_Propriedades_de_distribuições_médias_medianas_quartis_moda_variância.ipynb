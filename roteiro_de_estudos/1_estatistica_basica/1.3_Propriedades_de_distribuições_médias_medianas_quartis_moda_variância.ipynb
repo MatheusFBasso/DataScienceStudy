{
 "cells": [
  {
   "cell_type": "markdown",
   "id": "193d6b69-1229-467c-8753-d9dc58a82964",
   "metadata": {
    "tags": []
   },
   "source": [
    "# Propriedades de distribuição\n",
    "---\n",
    "## Medidas de Tendência Central\n",
    "\n",
    "### As medidas de tendência central são:\n",
    "* Média;\n",
    "* Mediana;\n",
    "* Moda;\n",
    "\n",
    "### Média aritmérica:\n",
    "* **Para dados brutos**: a média aritmética de um conjunto de $n$ valores $x_1, x_2, x_3,...,x_n$ é definida por: $\\overline{x} = \\frac{x_1, x_2, x_3,...,x_n}{n} = \\frac{\\sum_{i=1}^{k} x_i}{n}$\n",
    "* **Para dados agrupados**: Se $x_1, x_2, x_3,...,x_n$ ocorrem como as frequências $f_i, i = 1, 2, ..., K$, repetidamente, então a média aritmética é definida por: $\\overline{x} = \\frac{x_1 f_1, x_2 f_2, x_3 f_3,...,x_k f_k}{n} = \\frac{\\sum_{i=1}^{k} x_i f_i}{n}$\n"
   ]
  },
  {
   "cell_type": "code",
   "execution_count": 31,
   "id": "d5ffa46c",
   "metadata": {},
   "outputs": [
    {
     "name": "stdout",
     "output_type": "stream",
     "text": [
      "                High       Low      Open     Close      Volume  Adj Close\n",
      "Date                                                                     \n",
      "2021-01-04  120354.0  118062.0  119024.0  118558.0   8741400.0   118558.0\n",
      "2021-01-05  119790.0  116756.0  118835.0  119223.0   9257100.0   119223.0\n",
      "2021-01-06  120924.0  118917.0  119377.0  119851.0  11638200.0   119851.0\n",
      "2021-01-07  121983.0  119101.0  119103.0  121956.0  11774800.0   121956.0\n",
      "2021-01-08  125324.0  122386.0  122387.0  125077.0  11085800.0   125077.0\n"
     ]
    }
   ],
   "source": [
    "# importando bilbiotecas que serão utilizadas\n",
    "import pandas as pd\n",
    "from pandas_datareader import data\n",
    "from datetime import datetime as dt\n",
    "import yfinance as yf\n",
    "import numpy as np\n",
    "\n",
    "# vamos criar um dataframe contendo as informações sobre o IBOV desse ano\n",
    "df = data.DataReader('^BVSP', 'yahoo', '2021-01-01', '2021-08-17')\n",
    "\n",
    "print(df.head(5))"
   ]
  },
  {
   "cell_type": "code",
   "execution_count": 21,
   "id": "65d2b886",
   "metadata": {},
   "outputs": [
    {
     "name": "stdout",
     "output_type": "stream",
     "text": [
      "Média de High = 122180.29220779221\n",
      "Média de Low = 120113.0974025974\n",
      "Média de Open = 121187.1948051948\n",
      "Média de Close = 121175.58441558441\n"
     ]
    }
   ],
   "source": [
    "# como vemos acima temos as colunas, agora vamos calcular a média em cada uma\n",
    "\n",
    "h_mean = df.High.mean()\n",
    "l_mean = df.Low.mean()\n",
    "o_mean = df.Open.mean()\n",
    "c_mean = df.Close.mean()\n",
    "\n",
    "print('Média de High = {}\\nMédia de Low = {}\\nMédia de Open = {}\\nMédia de Close = {}'.format(\n",
    "                                                                h_mean, l_mean, o_mean, c_mean))"
   ]
  },
  {
   "cell_type": "markdown",
   "id": "104d9045",
   "metadata": {},
   "source": [
    "\n",
    "### Mediana:\n",
    "* **Para dados brutos**: a mediana $M_e$ de um conjunto de $n$ valores ordenados $x_1, x_2, x_3, ... , x_n$ é representada pelo valor central do conjunto para $n$ ímpar e pela média aritmética dos dois valores centrais para $n$ par.\n",
    "* **Para dados agrupados em classe**: $M_e = L_i + [\\frac{P-f^{'}_{ac}}{f_{M_e}}].h$. Onde:\n",
    "     * $L_i$ é o limite inferior da classe mediana;\n",
    "     * $P = \\frac{n}{2}$ é a posição da classe mediana;\n",
    "     * $f^{'}_{ac}$ é a frequência acumulada da classe anterior à classe mediana;\n",
    "     * $f_{m_e}$ é a frequência acumulada da classe mediana.\n"
   ]
  },
  {
   "cell_type": "code",
   "execution_count": 23,
   "id": "29ff4563",
   "metadata": {},
   "outputs": [
    {
     "name": "stdout",
     "output_type": "stream",
     "text": [
      "Mediana de High = 121736.0\n",
      "Mediana de Low = 119891.0\n",
      "Mediana de Open = 120710.0\n",
      "Mediana de Close = 120703.5\n"
     ]
    }
   ],
   "source": [
    "# vamos usar o mesmo df para agora calcular a mediana\n",
    "\n",
    "h_median = df.High.median()\n",
    "l_median = df.Low.median()\n",
    "o_median = df.Open.median()\n",
    "c_median = df.Close.median()\n",
    "\n",
    "print('Mediana de High = {}\\nMediana de Low = {}\\nMediana de Open = {}\\nMediana de Close = {}'.format(\\\n",
    "                                                                h_median, l_median, o_median, c_median))"
   ]
  },
  {
   "cell_type": "markdown",
   "id": "7d942d7b",
   "metadata": {},
   "source": [
    "\n",
    "### Moda:\n",
    "* **Para dados brutos**: a moda $M_o$ de um conjunto de $n$ valores $x_1, x_2, x_3, ... , x_n$ é um número desse conjunto que possuir a maior repetição. Se o conjunto não tiver valores repetidos não existirá moda (amodal) e se dois valores estiverem igualmente repetidos, tem-se então duas modas e o conjunto será dito bimodal. A moda é o valor ao qual está associado a frequência mais alta.\n",
    "\n",
    "* **Para dados agrupados em classe**: $M_o = L_i+[\\frac{\\Delta_1}{\\Delta_1 + \\Delta_2}].h$. Onde:\n",
    "  * $L_i$ é o limite inferior da classe modal. Chama-se de classe modal à classe de maior frequência;\n",
    "  * $\\Delta_1$ é a diferença entre a frequência da classe modal e a frequência da classe imediatamente inferior;\n",
    "  * $\\Delta_2$ é a diferença entre a frequência da classe modal e a frequência da classe imediatamente posterior.\n",
    "  \n"
   ]
  },
  {
   "cell_type": "code",
   "execution_count": 25,
   "id": "0bcbf946",
   "metadata": {},
   "outputs": [
    {
     "name": "stdout",
     "output_type": "stream",
     "text": [
      "Mediana de High = 0    122964.0\n",
      "dtype: float64\n",
      "Mediana de Low = 0    116109.0\n",
      "dtype: float64\n",
      "Mediana de Open = 0    120064.0\n",
      "1    120701.0\n",
      "dtype: float64\n",
      "Mediana de Close = 0    120701.0\n",
      "1    121801.0\n",
      "dtype: float64\n"
     ]
    }
   ],
   "source": [
    "# vamos usar o mesmo df para agora calcular a moda\n",
    "\n",
    "h_mode = df.High.mode()\n",
    "l_mode = df.Low.mode()\n",
    "o_mode = df.Open.mode()\n",
    "c_mode = df.Close.mode()\n",
    "\n",
    "print('Mediana de High = {}\\nMediana de Low = {}\\nMediana de Open = {}\\nMediana de Close = {}'.format(\n",
    "                                                                h_mode, l_mode, o_mode, c_mode))"
   ]
  },
  {
   "cell_type": "markdown",
   "id": "09cb7782",
   "metadata": {},
   "source": [
    "## Medidas de Dispersão:\n",
    "\n",
    "* Amplitude total;\n",
    "* Desvio médio;\n",
    "* Variância;\n",
    "* Desvio-Padrão;\n",
    "* Coeficiente de Variação;\n",
    "\n",
    "### **Amplitude Total**: é a diferença entre o maior e o menor valor dos dados\n"
   ]
  },
  {
   "cell_type": "code",
   "execution_count": 28,
   "id": "853cb8bd",
   "metadata": {},
   "outputs": [
    {
     "name": "stdout",
     "output_type": "stream",
     "text": [
      "Amplitude de High = 18792.0\n",
      "Amplitude de Low = 22207.0\n",
      "Amplitude de Open = 20740.0\n",
      "Amplitude de Close = 20741.0\n"
     ]
    }
   ],
   "source": [
    "# vamos usar o df e calcular a amplitude total para as colunas usadas anteriormente\n",
    "\n",
    "h_amplitude = max(df.High) - min(df.High)\n",
    "l_amplitude = max(df.Low) - min(df.Low)\n",
    "o_amplitude = max(df.Open) - min(df.Open)\n",
    "c_amplitude = max(df.Close) - min(df.Close)\n",
    "\n",
    "print('Amplitude de High = {}\\nAmplitude de Low = {}\\nAmplitude de Open = {}\\nAmplitude de Close = {}'.format(\n",
    "                                                                h_amplitude, l_amplitude, o_amplitude, c_amplitude))"
   ]
  },
  {
   "cell_type": "markdown",
   "id": "de136170",
   "metadata": {},
   "source": [
    "\n",
    "### **Desvio Médio**: de um conjunto de $n$ valores $x_1, x_2, x_3, ... , x_n$ é dada pela expressão: \n",
    "\n",
    "* **Dados Brutos**: $d = \\frac{\\sum^{i=1}_{n}|x_i- \\overline{x}|}{n}$\n",
    "* **Dados Agrupados**: $d = \\frac{\\sum^{i=1}_{n}|x_i- \\overline{x}|.f_i}{n}$\n",
    "\n",
    "<p>Obs.: O desvio médio é compreendido como a média aritmética dos erros, ou seja, é o erro médio.</p>\n"
   ]
  },
  {
   "cell_type": "markdown",
   "id": "545ea5eb",
   "metadata": {},
   "source": [
    "\n",
    "### **Variância**: se os dados são de uma população, a variância é definida pela expressão:\n",
    "* $\\sigma^2 = \\frac{\\sum^{i=2}_{n}(x_i-\\mu)^2}{N}$\n",
    "\n",
    "* para uma amostra da população: $s^2 = \\frac{\\sum^{i=2}_{n}(x_i-\\overline{x})^2}{n-1}$\n",
    "\n",
    "obs: a variância mede o grau de dispersão dos dados em relação à média. A sua unidade de média é o quadrado da unidade de medida das observações.\n",
    "\n"
   ]
  },
  {
   "cell_type": "code",
   "execution_count": 32,
   "id": "37fc8244",
   "metadata": {},
   "outputs": [
    {
     "name": "stdout",
     "output_type": "stream",
     "text": [
      "Variancia de High = 23360700.219809413\n",
      "Variancia de Low = 27630217.152850386\n",
      "Variancia de Open = 25888966.455557425\n",
      "Variancia de Close = 25864781.294822052\n"
     ]
    }
   ],
   "source": [
    "# vamos usar o df e calcular a variancia para as colunas usadas anteriormente\n",
    "\n",
    "h_variance = np.var(df.High)\n",
    "l_variance = np.var(df.Low)\n",
    "o_variance = np.var(df.Open)\n",
    "c_variance = np.var(df.Close)\n",
    "\n",
    "print('Variancia de High = {}\\nVariancia de Low = {}\\nVariancia de Open = {}\\nVariancia de Close = {}'.format(\n",
    "                                                                    h_variance, l_variance, o_variance, c_variance))\n"
   ]
  },
  {
   "cell_type": "markdown",
   "id": "fc0cb1b8",
   "metadata": {},
   "source": [
    "### **Desvio Padrão**: é a raiz quadrada da variância, ou seja:\n",
    "\n",
    "* para população: $\\sigma = \\sqrt \\sigma^2 = \\sqrt \\frac{\\sum^{n}_{i=1}(x_i - \\mu)^2}{N}$\n",
    "\n",
    "* para uma amostra da população: $S = \\sqrt S^2 = \\sqrt \\frac{\\sum^{n}_{i=1}(x_i - \\overline{x})^2}{n-1}$\n",
    "\n",
    "obs: o desvio padrão também mede o grau de dispersão das pontas em relação à média. Porém, a sua unidade de medida é a mesma dos dados observados. Além disso, o DP estabelece um intervalo de confiança indicando o quão confiável é esse valor (média).\n",
    "\n",
    "* caso os dados estejam agrupados: $S^2 = \\sqrt \\frac{\\sum^{n}_{i=1} (x_i - \\overline{x})^2.f_i}{n-1}$\n",
    "\n"
   ]
  },
  {
   "cell_type": "code",
   "execution_count": 33,
   "id": "712c51db",
   "metadata": {},
   "outputs": [
    {
     "name": "stdout",
     "output_type": "stream",
     "text": [
      "Desvio-padrao de High = 4833.290827149698\n",
      "Desvio-padrao de Low = 5256.4452962863015\n",
      "Desvio-padrao de Open = 5088.120129827658\n",
      "Desvio-padrao de Close = 5085.742944233621\n"
     ]
    }
   ],
   "source": [
    "# vamos usar o df e calcular a desvio-padrao para as colunas usadas anteriormente\n",
    "\n",
    "h_std = np.std(df.High)\n",
    "l_std = np.std(df.Low)\n",
    "o_std = np.std(df.Open)\n",
    "c_std = np.std(df.Close)\n",
    "\n",
    "print('Desvio-padrao de High = {}\\nDesvio-padrao de Low = {}\\nDesvio-padrao de Open = {}\\nDesvio-padrao de Close = {}'.format(\n",
    "                                                                    h_std, l_std, o_std, c_std))\n"
   ]
  },
  {
   "cell_type": "markdown",
   "id": "3d1ff6c8",
   "metadata": {},
   "source": [
    "### **Coeficiente de Variação** (caso amostral): é a razão entre o desvio-padrão e a média-aritmética, em porcentagem, ou seja: $CV = \\frac{s}{\\overline{x}} . 100\\%$\n",
    "* for menor ou igual a 15% ($CV \\le 15\\%$) -> baixa dispersão: dados homogêneos;\n",
    "* for entre 15% e 30% ($15\\% < CV < 30\\%$) -> media dispersão;\n",
    "* for maior ou igual a 30% ($CV \\ge 30\\%$) -> alta dispersão: dados heterogêneos;\n",
    "\n",
    "### **Intervalo Interquartil**:\n",
    "* Somente avalia a dispersão dos dados somente depois de ordená-los em ordem crescente. O intervalor interquartil é calculado com base no cálculo de quartis, sendo o primeiro quartil (inferior 25), o quartil intermediário (mediana 50), o terceiro quartil (superior 75), a diferença entre quartil superior e o quartil inferior determina o intervalo interquartil. Para entendermos melhor, vamos usar o boxpot que usa esse conceito para ser gerado:\n",
    "\n",
    "     * Vamos adotar o conjunto de dados \n",
    "     \n",
    "         * A = [1, 6, 10, 10, 11, 13, 13, 17, 18]     "
   ]
  },
  {
   "cell_type": "code",
   "execution_count": 122,
   "id": "2c200411-f689-42ba-b583-dd843db0b641",
   "metadata": {
    "jupyter": {
     "source_hidden": true
    },
    "tags": []
   },
   "outputs": [
    {
     "data": {
      "image/png": "[encoded data removed]",
      "text/plain": [
       "<Figure size 640x480 with 1 Axes>"
      ]
     },
     "metadata": {},
     "output_type": "display_data"
    }
   ],
   "source": [
    "import numpy as np\n",
    "import matplotlib.pyplot as plt\n",
    "\n",
    "A = [1, 6, 8, 10, 11, 13, 13, 17, 18]\n",
    "\n",
    "my_dict = {'A': A}\n",
    "plt.style.use('seaborn-whitegrid')\n",
    "fig, ax = plt.subplots()\n",
    "ax.boxplot(my_dict.values())\n",
    "ax.set_xticklabels(my_dict.keys())\n",
    "ax.text(1.1,8,'25% (inferior)', va = 'center', ha = 'left')\n",
    "ax.text(1.1,11,'50% (mediana)', va = 'center', ha = 'left', color = 'darkorange')\n",
    "ax.text(1.1,13,'75% (superior)', va = 'center', ha = 'left')\n",
    "ax.text(1.05,18,'Limite superior', va = 'center', ha = 'left')\n",
    "ax.text(1.05,1,'Limite inferior', va = 'center', ha = 'left')\n",
    "\n",
    "plt.show()"
   ]
  },
  {
   "cell_type": "markdown",
   "id": "104a0399",
   "metadata": {},
   "source": [
    "### **Conclusão**:\n",
    "* Podemos ver que as propriedades de distribuição são aplicáveis no mercado financeiro, podemos usar a média móvel para conseguirmos um indicador para tomada de decisão no mercado, e claro que outras propriedades podem ser usadas para análises com focos distintos aplicados a conceitos que ainda veremos, e por fim podemos ver que o boxplot é muito aplicável em resumir um conjunto de informações para uma visualização rápida e completa dos dados."
   ]
  }
 ],
 "metadata": {
  "kernelspec": {
   "display_name": "Python 3",
   "language": "python",
   "name": "python3"
  },
  "language_info": {
   "codemirror_mode": {
    "name": "ipython",
    "version": 3
   },
   "file_extension": ".py",
   "mimetype": "text/x-python",
   "name": "python",
   "nbconvert_exporter": "python",
   "pygments_lexer": "ipython3",
   "version": "3.8.8"
  }
 },
 "nbformat": 4,
 "nbformat_minor": 5
}
