{
 "cells": [
  {
   "cell_type": "markdown",
   "id": "463f91fe-d6ab-497e-b67f-0042593133d5",
   "metadata": {
    "jp-MarkdownHeadingCollapsed": true,
    "tags": []
   },
   "source": [
    "# Função Densidade de Probabilidade e Distribuição Acumulada\n",
    "<p><font size=\"1.5\">O presente documento caso esteja sendo lido no GitHub pode estar desconfigurado devido ao markdown, por isso recomendo baixar o mesmo e abrir em seu prórpio computador para uma visualização adequada do conteúdo.</font> </p>\n",
    "\n",
    "---\n",
    "## Teórico\n",
    "* **Definição**: a teoria da probabilidade é a base da inferência estatística. Através da inferência estatística podemos buscar inferir características da população a partir de uma amostra de dados obtidos ao acaso. Modelos probabilísitcos são modelos teóricos que nos descrevem a distribuição de frequências de um fenômeno, quando se tem uma amostra representativa de dados obtidos ao acaso. Modelos probabilísticos são descritos através de:\n",
    "    * Um espaço amostral\n",
    "    * Uma probabilidade para cada ponto amostral\n",
    "* **Algumas propriedades:**\n",
    "    * A probabilidade de qualquer evento é maior ou igual a zero e menor ou igual a um. ($ 0 \\le evento \\le 1$)\n",
    "    * A probabilidade de todo o espaço amostral é igual a um. ($ \\Omega = 1$)\n",
    "    * A probabilidade do conjunto vazio é igual a zero. ($\\emptyset = 0$)\n",
    "---    \n",
    "* Por definição, a intersecção de dois eventos A e B ocorre quando dois eventos ocorrem simultaneamente. ($A\\cap B$)    \n",
    "* Já na reunião de dois eventos A e B, temos que pelo menos um dos eventos deve ocorrer. ($A \\cup B$)\n",
    "* Um evento B é complementar ao evento A se ele compreender todos os pontos amostrais do espaço amostral que não pertençam ao evento A. $B = \\{x\\ |\\  x \\in U \\ e\\  x \\notin A\\}$ onde $U = A \\cup B$, sendo um conjunto universal.\n",
    "---\n",
    "\n",
    "### Função Distribuição Acumulada (f.d.a)\n",
    "* A função distribuição acumulada de uma variável aleatória $X$ associa a cada valor possível de $X$ a probabilidade de ocorrência de um valor menor ou igual a $x$. Denota-se $F(x) = P(X\\le x)$, ou seja, a função de nome $F$ é igual à probabilidade de que a variável aleatória $X$ assuma um valor inferior ou igual a determinado $x$. Note que, via de regra, para cada $x$, a função $F$ assumirá um valor diferente.\n",
    "    * Para uma variável aleatória: $F(x) = \\sum_{x_i\\le x}^{} f(x_i)$:\n",
    "    \n",
    "    ![f.d.a discreta](https://anotacoesdeaula.files.wordpress.com/2011/06/grafico3.png)\n",
    "\n",
    "    \n",
    "### Função Distribuição de Probabilidade (f.d.p)\n",
    "* É uma função que descreve a semelhança de uma variável aleatória tomar um valor dado. A probabilidade da variável dada cair em uma faixa particular é dada pela integral da densidade dessa variável sobre tal faixa, ou seja, é dada pela área abaixo da função densidade mas acima do eixo horizontal e entre o menor e o maior valor dessa faixa.\n",
    "* **Algumas propriedades**:\n",
    "    * A função densidade de probabilidade é não negativa sempre. Pois em estatística não existe probabilidade negativa. \n",
    "    * Sua integral sobre todo o espaço é igual a um. Pois em estatística o valor máximo que podemos ter é 1 o qual é igual a 100% e não podemos ter uma chance maior que isso por definição.\n",
    "    \n",
    "### Fórmulas:\n",
    "* Variável aleatória $x$: $\\int_{-\\infty}^{+\\infty}f(x)dx=1$\n",
    "\n",
    "![reprentacao](data:image/png;base64,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)\n",
    "\n",
    "* Podemos pegar essa imagem para demonstrar como a função é aplicada, na imagem temos uma grafico seguindo uma distribuição binomial, que veremos nos próximos arquivos, usando um f(x) qualquer e onde a probabilidade é calculada no intervalo de [5, 8] onde a integral definida nesse intervalo nos entrega a probabilidade do evento ocorrer. $\\int_{5}^{8} f(x)dx = a probabilidade\\ do\\ evento\\ ocorrer$.\n",
    "\n",
    "### Aplicação:\n",
    "* Como o f.d.p é voltado para variáveis contínuas é o correto para aplicarmos em uma análise do mercado financeiro, onde é possível usar para explicar a maioria das variaçõs do mercado. O estudo abaixo ilustra essa aplicação e os resultados obtidos:\n",
    "\n",
    "https://file.scirp.org/pdf/JMF_2015112614272762.pdf"
   ]
  }
 ],
 "metadata": {
  "kernelspec": {
   "display_name": "Python 3",
   "language": "python",
   "name": "python3"
  },
  "language_info": {
   "codemirror_mode": {
    "name": "ipython",
    "version": 3
   },
   "file_extension": ".py",
   "mimetype": "text/x-python",
   "name": "python",
   "nbconvert_exporter": "python",
   "pygments_lexer": "ipython3",
   "version": "3.8.8"
  }
 },
 "nbformat": 4,
 "nbformat_minor": 5
}
